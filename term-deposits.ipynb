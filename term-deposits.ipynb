{
 "cells": [
  {
   "cell_type": "markdown",
   "id": "70471ff8",
   "metadata": {
    "papermill": {
     "duration": 0.018295,
     "end_time": "2023-02-08T01:39:18.677026",
     "exception": false,
     "start_time": "2023-02-08T01:39:18.658731",
     "status": "completed"
    },
    "tags": []
   },
   "source": [
    "# Term_Deposits"
   ]
  },
  {
   "cell_type": "markdown",
   "id": "807dff7e",
   "metadata": {
    "papermill": {
     "duration": 0.01609,
     "end_time": "2023-02-08T01:39:18.711854",
     "exception": false,
     "start_time": "2023-02-08T01:39:18.695764",
     "status": "completed"
    },
    "tags": []
   },
   "source": [
    "## 1. Term Deposits"
   ]
  },
  {
   "cell_type": "markdown",
   "id": "c3f37c63",
   "metadata": {
    "papermill": {
     "duration": 0.016092,
     "end_time": "2023-02-08T01:39:18.744421",
     "exception": false,
     "start_time": "2023-02-08T01:39:18.728329",
     "status": "completed"
    },
    "tags": []
   },
   "source": [
    "This is a classification project where I try to use SMOTE for my first time.\n",
    "Dataset: https://www.kaggle.com/datasets/prakharrathi25/banking-dataset-marketingtargets?select=train.csv\n",
    "\n",
    "The purpose of the following work is to work with classification problems where one target class is\n",
    "over-represented"
   ]
  },
  {
   "cell_type": "markdown",
   "id": "075e44e8",
   "metadata": {
    "papermill": {
     "duration": 0.016142,
     "end_time": "2023-02-08T01:39:18.776950",
     "exception": false,
     "start_time": "2023-02-08T01:39:18.760808",
     "status": "completed"
    },
    "tags": []
   },
   "source": [
    "## 2. Importing Libraries"
   ]
  },
  {
   "cell_type": "code",
   "execution_count": 1,
   "id": "c4162bf2",
   "metadata": {
    "execution": {
     "iopub.execute_input": "2023-02-08T01:39:18.812492Z",
     "iopub.status.busy": "2023-02-08T01:39:18.811776Z",
     "iopub.status.idle": "2023-02-08T01:39:19.886112Z",
     "shell.execute_reply": "2023-02-08T01:39:19.884895Z"
    },
    "papermill": {
     "duration": 1.095639,
     "end_time": "2023-02-08T01:39:19.889102",
     "exception": false,
     "start_time": "2023-02-08T01:39:18.793463",
     "status": "completed"
    },
    "tags": []
   },
   "outputs": [],
   "source": [
    "import pandas as pd\n",
    "import numpy as np\n",
    "import matplotlib.pyplot as plt\n",
    "import matplotlib\n",
    "import seaborn as sns\n",
    "%matplotlib inline\n",
    "\n",
    "\n",
    "sns.set_style(\"darkgrid\")\n",
    "matplotlib.rcParams['font.size']=14\n",
    "matplotlib.rcParams['figure.figsize']=(15,5)\n",
    "matplotlib.rcParams['figure.facecolor']='#00000000'\n",
    "\n",
    "import warnings\n",
    "warnings.simplefilter(action='ignore')"
   ]
  },
  {
   "cell_type": "markdown",
   "id": "00e2b7f1",
   "metadata": {
    "papermill": {
     "duration": 0.016412,
     "end_time": "2023-02-08T01:39:19.922209",
     "exception": false,
     "start_time": "2023-02-08T01:39:19.905797",
     "status": "completed"
    },
    "tags": []
   },
   "source": [
    "## 3 Importing Data"
   ]
  },
  {
   "cell_type": "code",
   "execution_count": 2,
   "id": "1a37bb0f",
   "metadata": {
    "execution": {
     "iopub.execute_input": "2023-02-08T01:39:19.957362Z",
     "iopub.status.busy": "2023-02-08T01:39:19.956676Z",
     "iopub.status.idle": "2023-02-08T01:39:20.119166Z",
     "shell.execute_reply": "2023-02-08T01:39:20.117810Z"
    },
    "papermill": {
     "duration": 0.183106,
     "end_time": "2023-02-08T01:39:20.121776",
     "exception": false,
     "start_time": "2023-02-08T01:39:19.938670",
     "status": "completed"
    },
    "tags": []
   },
   "outputs": [],
   "source": [
    "bank=pd.read_csv(\"/kaggle/input/banking-train/train.csv\",delimiter=';').rename(columns={'y':'subscription'})"
   ]
  },
  {
   "cell_type": "code",
   "execution_count": 3,
   "id": "ae404a17",
   "metadata": {
    "execution": {
     "iopub.execute_input": "2023-02-08T01:39:20.156580Z",
     "iopub.status.busy": "2023-02-08T01:39:20.156139Z",
     "iopub.status.idle": "2023-02-08T01:39:20.184418Z",
     "shell.execute_reply": "2023-02-08T01:39:20.183081Z"
    },
    "papermill": {
     "duration": 0.048723,
     "end_time": "2023-02-08T01:39:20.187055",
     "exception": false,
     "start_time": "2023-02-08T01:39:20.138332",
     "status": "completed"
    },
    "tags": []
   },
   "outputs": [
    {
     "data": {
      "text/html": [
       "<div>\n",
       "<style scoped>\n",
       "    .dataframe tbody tr th:only-of-type {\n",
       "        vertical-align: middle;\n",
       "    }\n",
       "\n",
       "    .dataframe tbody tr th {\n",
       "        vertical-align: top;\n",
       "    }\n",
       "\n",
       "    .dataframe thead th {\n",
       "        text-align: right;\n",
       "    }\n",
       "</style>\n",
       "<table border=\"1\" class=\"dataframe\">\n",
       "  <thead>\n",
       "    <tr style=\"text-align: right;\">\n",
       "      <th></th>\n",
       "      <th>age</th>\n",
       "      <th>job</th>\n",
       "      <th>marital</th>\n",
       "      <th>education</th>\n",
       "      <th>default</th>\n",
       "      <th>balance</th>\n",
       "      <th>housing</th>\n",
       "      <th>loan</th>\n",
       "      <th>contact</th>\n",
       "      <th>day</th>\n",
       "      <th>month</th>\n",
       "      <th>duration</th>\n",
       "      <th>campaign</th>\n",
       "      <th>pdays</th>\n",
       "      <th>previous</th>\n",
       "      <th>poutcome</th>\n",
       "      <th>subscription</th>\n",
       "    </tr>\n",
       "  </thead>\n",
       "  <tbody>\n",
       "    <tr>\n",
       "      <th>0</th>\n",
       "      <td>58</td>\n",
       "      <td>management</td>\n",
       "      <td>married</td>\n",
       "      <td>tertiary</td>\n",
       "      <td>no</td>\n",
       "      <td>2143</td>\n",
       "      <td>yes</td>\n",
       "      <td>no</td>\n",
       "      <td>unknown</td>\n",
       "      <td>5</td>\n",
       "      <td>may</td>\n",
       "      <td>261</td>\n",
       "      <td>1</td>\n",
       "      <td>-1</td>\n",
       "      <td>0</td>\n",
       "      <td>unknown</td>\n",
       "      <td>no</td>\n",
       "    </tr>\n",
       "    <tr>\n",
       "      <th>1</th>\n",
       "      <td>44</td>\n",
       "      <td>technician</td>\n",
       "      <td>single</td>\n",
       "      <td>secondary</td>\n",
       "      <td>no</td>\n",
       "      <td>29</td>\n",
       "      <td>yes</td>\n",
       "      <td>no</td>\n",
       "      <td>unknown</td>\n",
       "      <td>5</td>\n",
       "      <td>may</td>\n",
       "      <td>151</td>\n",
       "      <td>1</td>\n",
       "      <td>-1</td>\n",
       "      <td>0</td>\n",
       "      <td>unknown</td>\n",
       "      <td>no</td>\n",
       "    </tr>\n",
       "    <tr>\n",
       "      <th>2</th>\n",
       "      <td>33</td>\n",
       "      <td>entrepreneur</td>\n",
       "      <td>married</td>\n",
       "      <td>secondary</td>\n",
       "      <td>no</td>\n",
       "      <td>2</td>\n",
       "      <td>yes</td>\n",
       "      <td>yes</td>\n",
       "      <td>unknown</td>\n",
       "      <td>5</td>\n",
       "      <td>may</td>\n",
       "      <td>76</td>\n",
       "      <td>1</td>\n",
       "      <td>-1</td>\n",
       "      <td>0</td>\n",
       "      <td>unknown</td>\n",
       "      <td>no</td>\n",
       "    </tr>\n",
       "    <tr>\n",
       "      <th>3</th>\n",
       "      <td>47</td>\n",
       "      <td>blue-collar</td>\n",
       "      <td>married</td>\n",
       "      <td>unknown</td>\n",
       "      <td>no</td>\n",
       "      <td>1506</td>\n",
       "      <td>yes</td>\n",
       "      <td>no</td>\n",
       "      <td>unknown</td>\n",
       "      <td>5</td>\n",
       "      <td>may</td>\n",
       "      <td>92</td>\n",
       "      <td>1</td>\n",
       "      <td>-1</td>\n",
       "      <td>0</td>\n",
       "      <td>unknown</td>\n",
       "      <td>no</td>\n",
       "    </tr>\n",
       "    <tr>\n",
       "      <th>4</th>\n",
       "      <td>33</td>\n",
       "      <td>unknown</td>\n",
       "      <td>single</td>\n",
       "      <td>unknown</td>\n",
       "      <td>no</td>\n",
       "      <td>1</td>\n",
       "      <td>no</td>\n",
       "      <td>no</td>\n",
       "      <td>unknown</td>\n",
       "      <td>5</td>\n",
       "      <td>may</td>\n",
       "      <td>198</td>\n",
       "      <td>1</td>\n",
       "      <td>-1</td>\n",
       "      <td>0</td>\n",
       "      <td>unknown</td>\n",
       "      <td>no</td>\n",
       "    </tr>\n",
       "  </tbody>\n",
       "</table>\n",
       "</div>"
      ],
      "text/plain": [
       "   age           job  marital  education default  balance housing loan  \\\n",
       "0   58    management  married   tertiary      no     2143     yes   no   \n",
       "1   44    technician   single  secondary      no       29     yes   no   \n",
       "2   33  entrepreneur  married  secondary      no        2     yes  yes   \n",
       "3   47   blue-collar  married    unknown      no     1506     yes   no   \n",
       "4   33       unknown   single    unknown      no        1      no   no   \n",
       "\n",
       "   contact  day month  duration  campaign  pdays  previous poutcome  \\\n",
       "0  unknown    5   may       261         1     -1         0  unknown   \n",
       "1  unknown    5   may       151         1     -1         0  unknown   \n",
       "2  unknown    5   may        76         1     -1         0  unknown   \n",
       "3  unknown    5   may        92         1     -1         0  unknown   \n",
       "4  unknown    5   may       198         1     -1         0  unknown   \n",
       "\n",
       "  subscription  \n",
       "0           no  \n",
       "1           no  \n",
       "2           no  \n",
       "3           no  \n",
       "4           no  "
      ]
     },
     "execution_count": 3,
     "metadata": {},
     "output_type": "execute_result"
    }
   ],
   "source": [
    "bank.head(5)"
   ]
  },
  {
   "cell_type": "markdown",
   "id": "753bcb85",
   "metadata": {
    "papermill": {
     "duration": 0.016199,
     "end_time": "2023-02-08T01:39:20.220071",
     "exception": false,
     "start_time": "2023-02-08T01:39:20.203872",
     "status": "completed"
    },
    "tags": []
   },
   "source": [
    "## 4. EDA"
   ]
  },
  {
   "cell_type": "markdown",
   "id": "8627137d",
   "metadata": {
    "papermill": {
     "duration": 0.016374,
     "end_time": "2023-02-08T01:39:20.253049",
     "exception": false,
     "start_time": "2023-02-08T01:39:20.236675",
     "status": "completed"
    },
    "tags": []
   },
   "source": [
    "A few questions for EDA:\n",
    "    \n",
    "1- What is the average number of contacts received by customers who subscribed and ones who did\n",
    "not?\n",
    "\n",
    "2- Is a previous succesfull campaign more likely to lead to a subscription?\n",
    "\n",
    "3- Which contact type is the most succesful?\n",
    "\n",
    "4- Which previous contact month is the most frequent among those who subscribed?\n",
    "\n",
    "5- What is the average balance of new subscribers?"
   ]
  },
  {
   "cell_type": "markdown",
   "id": "8288c0ed",
   "metadata": {
    "papermill": {
     "duration": 0.016183,
     "end_time": "2023-02-08T01:39:20.285875",
     "exception": false,
     "start_time": "2023-02-08T01:39:20.269692",
     "status": "completed"
    },
    "tags": []
   },
   "source": [
    "### 4.1 General Information"
   ]
  },
  {
   "cell_type": "code",
   "execution_count": 4,
   "id": "5b6d36dd",
   "metadata": {
    "execution": {
     "iopub.execute_input": "2023-02-08T01:39:20.321178Z",
     "iopub.status.busy": "2023-02-08T01:39:20.320151Z",
     "iopub.status.idle": "2023-02-08T01:39:20.362430Z",
     "shell.execute_reply": "2023-02-08T01:39:20.360680Z"
    },
    "papermill": {
     "duration": 0.062773,
     "end_time": "2023-02-08T01:39:20.365215",
     "exception": false,
     "start_time": "2023-02-08T01:39:20.302442",
     "status": "completed"
    },
    "tags": []
   },
   "outputs": [
    {
     "name": "stdout",
     "output_type": "stream",
     "text": [
      "<class 'pandas.core.frame.DataFrame'>\n",
      "RangeIndex: 45211 entries, 0 to 45210\n",
      "Data columns (total 17 columns):\n",
      " #   Column        Non-Null Count  Dtype \n",
      "---  ------        --------------  ----- \n",
      " 0   age           45211 non-null  int64 \n",
      " 1   job           45211 non-null  object\n",
      " 2   marital       45211 non-null  object\n",
      " 3   education     45211 non-null  object\n",
      " 4   default       45211 non-null  object\n",
      " 5   balance       45211 non-null  int64 \n",
      " 6   housing       45211 non-null  object\n",
      " 7   loan          45211 non-null  object\n",
      " 8   contact       45211 non-null  object\n",
      " 9   day           45211 non-null  int64 \n",
      " 10  month         45211 non-null  object\n",
      " 11  duration      45211 non-null  int64 \n",
      " 12  campaign      45211 non-null  int64 \n",
      " 13  pdays         45211 non-null  int64 \n",
      " 14  previous      45211 non-null  int64 \n",
      " 15  poutcome      45211 non-null  object\n",
      " 16  subscription  45211 non-null  object\n",
      "dtypes: int64(7), object(10)\n",
      "memory usage: 5.9+ MB\n"
     ]
    }
   ],
   "source": [
    "bank.info()"
   ]
  },
  {
   "cell_type": "markdown",
   "id": "edc86578",
   "metadata": {
    "papermill": {
     "duration": 0.016351,
     "end_time": "2023-02-08T01:39:20.398605",
     "exception": false,
     "start_time": "2023-02-08T01:39:20.382254",
     "status": "completed"
    },
    "tags": []
   },
   "source": [
    "- There are no missing value"
   ]
  },
  {
   "cell_type": "code",
   "execution_count": 5,
   "id": "7e9c6111",
   "metadata": {
    "execution": {
     "iopub.execute_input": "2023-02-08T01:39:20.433737Z",
     "iopub.status.busy": "2023-02-08T01:39:20.433301Z",
     "iopub.status.idle": "2023-02-08T01:39:20.496427Z",
     "shell.execute_reply": "2023-02-08T01:39:20.495239Z"
    },
    "papermill": {
     "duration": 0.083895,
     "end_time": "2023-02-08T01:39:20.499081",
     "exception": false,
     "start_time": "2023-02-08T01:39:20.415186",
     "status": "completed"
    },
    "tags": []
   },
   "outputs": [
    {
     "data": {
      "text/html": [
       "<div>\n",
       "<style scoped>\n",
       "    .dataframe tbody tr th:only-of-type {\n",
       "        vertical-align: middle;\n",
       "    }\n",
       "\n",
       "    .dataframe tbody tr th {\n",
       "        vertical-align: top;\n",
       "    }\n",
       "\n",
       "    .dataframe thead th {\n",
       "        text-align: right;\n",
       "    }\n",
       "</style>\n",
       "<table border=\"1\" class=\"dataframe\">\n",
       "  <thead>\n",
       "    <tr style=\"text-align: right;\">\n",
       "      <th></th>\n",
       "      <th>age</th>\n",
       "      <th>job</th>\n",
       "      <th>marital</th>\n",
       "      <th>education</th>\n",
       "      <th>default</th>\n",
       "      <th>balance</th>\n",
       "      <th>housing</th>\n",
       "      <th>loan</th>\n",
       "      <th>contact</th>\n",
       "      <th>day</th>\n",
       "      <th>month</th>\n",
       "      <th>duration</th>\n",
       "      <th>campaign</th>\n",
       "      <th>pdays</th>\n",
       "      <th>previous</th>\n",
       "      <th>poutcome</th>\n",
       "      <th>subscription</th>\n",
       "    </tr>\n",
       "  </thead>\n",
       "  <tbody>\n",
       "  </tbody>\n",
       "</table>\n",
       "</div>"
      ],
      "text/plain": [
       "Empty DataFrame\n",
       "Columns: [age, job, marital, education, default, balance, housing, loan, contact, day, month, duration, campaign, pdays, previous, poutcome, subscription]\n",
       "Index: []"
      ]
     },
     "execution_count": 5,
     "metadata": {},
     "output_type": "execute_result"
    }
   ],
   "source": [
    "bank[bank.duplicated(keep=False)]"
   ]
  },
  {
   "cell_type": "markdown",
   "id": "3cd12662",
   "metadata": {
    "execution": {
     "iopub.execute_input": "2023-02-07T16:33:52.882166Z",
     "iopub.status.busy": "2023-02-07T16:33:52.881658Z",
     "iopub.status.idle": "2023-02-07T16:33:52.889853Z",
     "shell.execute_reply": "2023-02-07T16:33:52.888081Z",
     "shell.execute_reply.started": "2023-02-07T16:33:52.882127Z"
    },
    "papermill": {
     "duration": 0.016362,
     "end_time": "2023-02-08T01:39:20.532505",
     "exception": false,
     "start_time": "2023-02-08T01:39:20.516143",
     "status": "completed"
    },
    "tags": []
   },
   "source": [
    "- There are no duplicated values"
   ]
  },
  {
   "cell_type": "markdown",
   "id": "b35b98da",
   "metadata": {
    "papermill": {
     "duration": 0.01697,
     "end_time": "2023-02-08T01:39:20.566566",
     "exception": false,
     "start_time": "2023-02-08T01:39:20.549596",
     "status": "completed"
    },
    "tags": []
   },
   "source": [
    "**Desciptive Statictis Analysis**"
   ]
  },
  {
   "cell_type": "code",
   "execution_count": 6,
   "id": "c8b03bc3",
   "metadata": {
    "execution": {
     "iopub.execute_input": "2023-02-08T01:39:20.602564Z",
     "iopub.status.busy": "2023-02-08T01:39:20.601331Z",
     "iopub.status.idle": "2023-02-08T01:39:20.650374Z",
     "shell.execute_reply": "2023-02-08T01:39:20.649192Z"
    },
    "papermill": {
     "duration": 0.069658,
     "end_time": "2023-02-08T01:39:20.652887",
     "exception": false,
     "start_time": "2023-02-08T01:39:20.583229",
     "status": "completed"
    },
    "tags": []
   },
   "outputs": [
    {
     "data": {
      "text/html": [
       "<div>\n",
       "<style scoped>\n",
       "    .dataframe tbody tr th:only-of-type {\n",
       "        vertical-align: middle;\n",
       "    }\n",
       "\n",
       "    .dataframe tbody tr th {\n",
       "        vertical-align: top;\n",
       "    }\n",
       "\n",
       "    .dataframe thead th {\n",
       "        text-align: right;\n",
       "    }\n",
       "</style>\n",
       "<table border=\"1\" class=\"dataframe\">\n",
       "  <thead>\n",
       "    <tr style=\"text-align: right;\">\n",
       "      <th></th>\n",
       "      <th>count</th>\n",
       "      <th>mean</th>\n",
       "      <th>std</th>\n",
       "      <th>min</th>\n",
       "      <th>25%</th>\n",
       "      <th>50%</th>\n",
       "      <th>75%</th>\n",
       "      <th>max</th>\n",
       "    </tr>\n",
       "  </thead>\n",
       "  <tbody>\n",
       "    <tr>\n",
       "      <th>age</th>\n",
       "      <td>45211.0</td>\n",
       "      <td>40.936210</td>\n",
       "      <td>10.618762</td>\n",
       "      <td>18.0</td>\n",
       "      <td>33.0</td>\n",
       "      <td>39.0</td>\n",
       "      <td>48.0</td>\n",
       "      <td>95.0</td>\n",
       "    </tr>\n",
       "    <tr>\n",
       "      <th>balance</th>\n",
       "      <td>45211.0</td>\n",
       "      <td>1362.272058</td>\n",
       "      <td>3044.765829</td>\n",
       "      <td>-8019.0</td>\n",
       "      <td>72.0</td>\n",
       "      <td>448.0</td>\n",
       "      <td>1428.0</td>\n",
       "      <td>102127.0</td>\n",
       "    </tr>\n",
       "    <tr>\n",
       "      <th>day</th>\n",
       "      <td>45211.0</td>\n",
       "      <td>15.806419</td>\n",
       "      <td>8.322476</td>\n",
       "      <td>1.0</td>\n",
       "      <td>8.0</td>\n",
       "      <td>16.0</td>\n",
       "      <td>21.0</td>\n",
       "      <td>31.0</td>\n",
       "    </tr>\n",
       "    <tr>\n",
       "      <th>duration</th>\n",
       "      <td>45211.0</td>\n",
       "      <td>258.163080</td>\n",
       "      <td>257.527812</td>\n",
       "      <td>0.0</td>\n",
       "      <td>103.0</td>\n",
       "      <td>180.0</td>\n",
       "      <td>319.0</td>\n",
       "      <td>4918.0</td>\n",
       "    </tr>\n",
       "    <tr>\n",
       "      <th>campaign</th>\n",
       "      <td>45211.0</td>\n",
       "      <td>2.763841</td>\n",
       "      <td>3.098021</td>\n",
       "      <td>1.0</td>\n",
       "      <td>1.0</td>\n",
       "      <td>2.0</td>\n",
       "      <td>3.0</td>\n",
       "      <td>63.0</td>\n",
       "    </tr>\n",
       "    <tr>\n",
       "      <th>pdays</th>\n",
       "      <td>45211.0</td>\n",
       "      <td>40.197828</td>\n",
       "      <td>100.128746</td>\n",
       "      <td>-1.0</td>\n",
       "      <td>-1.0</td>\n",
       "      <td>-1.0</td>\n",
       "      <td>-1.0</td>\n",
       "      <td>871.0</td>\n",
       "    </tr>\n",
       "    <tr>\n",
       "      <th>previous</th>\n",
       "      <td>45211.0</td>\n",
       "      <td>0.580323</td>\n",
       "      <td>2.303441</td>\n",
       "      <td>0.0</td>\n",
       "      <td>0.0</td>\n",
       "      <td>0.0</td>\n",
       "      <td>0.0</td>\n",
       "      <td>275.0</td>\n",
       "    </tr>\n",
       "  </tbody>\n",
       "</table>\n",
       "</div>"
      ],
      "text/plain": [
       "            count         mean          std     min    25%    50%     75%  \\\n",
       "age       45211.0    40.936210    10.618762    18.0   33.0   39.0    48.0   \n",
       "balance   45211.0  1362.272058  3044.765829 -8019.0   72.0  448.0  1428.0   \n",
       "day       45211.0    15.806419     8.322476     1.0    8.0   16.0    21.0   \n",
       "duration  45211.0   258.163080   257.527812     0.0  103.0  180.0   319.0   \n",
       "campaign  45211.0     2.763841     3.098021     1.0    1.0    2.0     3.0   \n",
       "pdays     45211.0    40.197828   100.128746    -1.0   -1.0   -1.0    -1.0   \n",
       "previous  45211.0     0.580323     2.303441     0.0    0.0    0.0     0.0   \n",
       "\n",
       "               max  \n",
       "age           95.0  \n",
       "balance   102127.0  \n",
       "day           31.0  \n",
       "duration    4918.0  \n",
       "campaign      63.0  \n",
       "pdays        871.0  \n",
       "previous     275.0  "
      ]
     },
     "execution_count": 6,
     "metadata": {},
     "output_type": "execute_result"
    }
   ],
   "source": [
    "bank.describe().transpose()"
   ]
  },
  {
   "cell_type": "markdown",
   "id": "a0e34132",
   "metadata": {
    "papermill": {
     "duration": 0.016927,
     "end_time": "2023-02-08T01:39:20.687143",
     "exception": false,
     "start_time": "2023-02-08T01:39:20.670216",
     "status": "completed"
    },
    "tags": []
   },
   "source": [
    "**Covariance Matrix**"
   ]
  },
  {
   "cell_type": "code",
   "execution_count": 7,
   "id": "237b335e",
   "metadata": {
    "execution": {
     "iopub.execute_input": "2023-02-08T01:39:20.723502Z",
     "iopub.status.busy": "2023-02-08T01:39:20.723042Z",
     "iopub.status.idle": "2023-02-08T01:39:20.749608Z",
     "shell.execute_reply": "2023-02-08T01:39:20.748464Z"
    },
    "papermill": {
     "duration": 0.047579,
     "end_time": "2023-02-08T01:39:20.751950",
     "exception": false,
     "start_time": "2023-02-08T01:39:20.704371",
     "status": "completed"
    },
    "tags": []
   },
   "outputs": [
    {
     "data": {
      "text/html": [
       "<div>\n",
       "<style scoped>\n",
       "    .dataframe tbody tr th:only-of-type {\n",
       "        vertical-align: middle;\n",
       "    }\n",
       "\n",
       "    .dataframe tbody tr th {\n",
       "        vertical-align: top;\n",
       "    }\n",
       "\n",
       "    .dataframe thead th {\n",
       "        text-align: right;\n",
       "    }\n",
       "</style>\n",
       "<table border=\"1\" class=\"dataframe\">\n",
       "  <thead>\n",
       "    <tr style=\"text-align: right;\">\n",
       "      <th></th>\n",
       "      <th>age</th>\n",
       "      <th>balance</th>\n",
       "      <th>day</th>\n",
       "      <th>duration</th>\n",
       "      <th>campaign</th>\n",
       "      <th>pdays</th>\n",
       "      <th>previous</th>\n",
       "    </tr>\n",
       "  </thead>\n",
       "  <tbody>\n",
       "    <tr>\n",
       "      <th>age</th>\n",
       "      <td>1.000000</td>\n",
       "      <td>0.097783</td>\n",
       "      <td>-0.009120</td>\n",
       "      <td>-0.004648</td>\n",
       "      <td>0.004760</td>\n",
       "      <td>-0.023758</td>\n",
       "      <td>0.001288</td>\n",
       "    </tr>\n",
       "    <tr>\n",
       "      <th>balance</th>\n",
       "      <td>0.097783</td>\n",
       "      <td>1.000000</td>\n",
       "      <td>0.004503</td>\n",
       "      <td>0.021560</td>\n",
       "      <td>-0.014578</td>\n",
       "      <td>0.003435</td>\n",
       "      <td>0.016674</td>\n",
       "    </tr>\n",
       "    <tr>\n",
       "      <th>day</th>\n",
       "      <td>-0.009120</td>\n",
       "      <td>0.004503</td>\n",
       "      <td>1.000000</td>\n",
       "      <td>-0.030206</td>\n",
       "      <td>0.162490</td>\n",
       "      <td>-0.093044</td>\n",
       "      <td>-0.051710</td>\n",
       "    </tr>\n",
       "    <tr>\n",
       "      <th>duration</th>\n",
       "      <td>-0.004648</td>\n",
       "      <td>0.021560</td>\n",
       "      <td>-0.030206</td>\n",
       "      <td>1.000000</td>\n",
       "      <td>-0.084570</td>\n",
       "      <td>-0.001565</td>\n",
       "      <td>0.001203</td>\n",
       "    </tr>\n",
       "    <tr>\n",
       "      <th>campaign</th>\n",
       "      <td>0.004760</td>\n",
       "      <td>-0.014578</td>\n",
       "      <td>0.162490</td>\n",
       "      <td>-0.084570</td>\n",
       "      <td>1.000000</td>\n",
       "      <td>-0.088628</td>\n",
       "      <td>-0.032855</td>\n",
       "    </tr>\n",
       "    <tr>\n",
       "      <th>pdays</th>\n",
       "      <td>-0.023758</td>\n",
       "      <td>0.003435</td>\n",
       "      <td>-0.093044</td>\n",
       "      <td>-0.001565</td>\n",
       "      <td>-0.088628</td>\n",
       "      <td>1.000000</td>\n",
       "      <td>0.454820</td>\n",
       "    </tr>\n",
       "    <tr>\n",
       "      <th>previous</th>\n",
       "      <td>0.001288</td>\n",
       "      <td>0.016674</td>\n",
       "      <td>-0.051710</td>\n",
       "      <td>0.001203</td>\n",
       "      <td>-0.032855</td>\n",
       "      <td>0.454820</td>\n",
       "      <td>1.000000</td>\n",
       "    </tr>\n",
       "  </tbody>\n",
       "</table>\n",
       "</div>"
      ],
      "text/plain": [
       "               age   balance       day  duration  campaign     pdays  previous\n",
       "age       1.000000  0.097783 -0.009120 -0.004648  0.004760 -0.023758  0.001288\n",
       "balance   0.097783  1.000000  0.004503  0.021560 -0.014578  0.003435  0.016674\n",
       "day      -0.009120  0.004503  1.000000 -0.030206  0.162490 -0.093044 -0.051710\n",
       "duration -0.004648  0.021560 -0.030206  1.000000 -0.084570 -0.001565  0.001203\n",
       "campaign  0.004760 -0.014578  0.162490 -0.084570  1.000000 -0.088628 -0.032855\n",
       "pdays    -0.023758  0.003435 -0.093044 -0.001565 -0.088628  1.000000  0.454820\n",
       "previous  0.001288  0.016674 -0.051710  0.001203 -0.032855  0.454820  1.000000"
      ]
     },
     "execution_count": 7,
     "metadata": {},
     "output_type": "execute_result"
    }
   ],
   "source": [
    "bank.corr()"
   ]
  },
  {
   "cell_type": "markdown",
   "id": "a54ad706",
   "metadata": {
    "papermill": {
     "duration": 0.017032,
     "end_time": "2023-02-08T01:39:20.786329",
     "exception": false,
     "start_time": "2023-02-08T01:39:20.769297",
     "status": "completed"
    },
    "tags": []
   },
   "source": [
    "### 4.2 Question 1- What is the average number of contacs received by customers who subscribed and ones who did not?\n",
    "Creating two dataset to distingguish who subscribed and who didnot subscribe."
   ]
  },
  {
   "cell_type": "code",
   "execution_count": 8,
   "id": "13592d96",
   "metadata": {
    "execution": {
     "iopub.execute_input": "2023-02-08T01:39:20.823304Z",
     "iopub.status.busy": "2023-02-08T01:39:20.822900Z",
     "iopub.status.idle": "2023-02-08T01:39:20.845195Z",
     "shell.execute_reply": "2023-02-08T01:39:20.844016Z"
    },
    "papermill": {
     "duration": 0.043585,
     "end_time": "2023-02-08T01:39:20.847836",
     "exception": false,
     "start_time": "2023-02-08T01:39:20.804251",
     "status": "completed"
    },
    "tags": []
   },
   "outputs": [],
   "source": [
    "sub=bank[bank.subscription=='yes']\n",
    "no_sub=bank[bank.subscription=='no']"
   ]
  },
  {
   "cell_type": "code",
   "execution_count": 9,
   "id": "b43bc804",
   "metadata": {
    "execution": {
     "iopub.execute_input": "2023-02-08T01:39:20.884059Z",
     "iopub.status.busy": "2023-02-08T01:39:20.883656Z",
     "iopub.status.idle": "2023-02-08T01:39:20.918420Z",
     "shell.execute_reply": "2023-02-08T01:39:20.917565Z"
    },
    "papermill": {
     "duration": 0.055531,
     "end_time": "2023-02-08T01:39:20.920716",
     "exception": false,
     "start_time": "2023-02-08T01:39:20.865185",
     "status": "completed"
    },
    "tags": []
   },
   "outputs": [
    {
     "data": {
      "text/html": [
       "<div>\n",
       "<style scoped>\n",
       "    .dataframe tbody tr th:only-of-type {\n",
       "        vertical-align: middle;\n",
       "    }\n",
       "\n",
       "    .dataframe tbody tr th {\n",
       "        vertical-align: top;\n",
       "    }\n",
       "\n",
       "    .dataframe thead th {\n",
       "        text-align: right;\n",
       "    }\n",
       "</style>\n",
       "<table border=\"1\" class=\"dataframe\">\n",
       "  <thead>\n",
       "    <tr style=\"text-align: right;\">\n",
       "      <th></th>\n",
       "      <th>count</th>\n",
       "      <th>mean</th>\n",
       "      <th>std</th>\n",
       "      <th>min</th>\n",
       "      <th>25%</th>\n",
       "      <th>50%</th>\n",
       "      <th>75%</th>\n",
       "      <th>max</th>\n",
       "    </tr>\n",
       "  </thead>\n",
       "  <tbody>\n",
       "    <tr>\n",
       "      <th>age</th>\n",
       "      <td>5289.0</td>\n",
       "      <td>41.670070</td>\n",
       "      <td>13.497781</td>\n",
       "      <td>18.0</td>\n",
       "      <td>31.0</td>\n",
       "      <td>38.0</td>\n",
       "      <td>50.0</td>\n",
       "      <td>95.0</td>\n",
       "    </tr>\n",
       "    <tr>\n",
       "      <th>balance</th>\n",
       "      <td>5289.0</td>\n",
       "      <td>1804.267915</td>\n",
       "      <td>3501.104777</td>\n",
       "      <td>-3058.0</td>\n",
       "      <td>210.0</td>\n",
       "      <td>733.0</td>\n",
       "      <td>2159.0</td>\n",
       "      <td>81204.0</td>\n",
       "    </tr>\n",
       "    <tr>\n",
       "      <th>day</th>\n",
       "      <td>5289.0</td>\n",
       "      <td>15.158253</td>\n",
       "      <td>8.501875</td>\n",
       "      <td>1.0</td>\n",
       "      <td>8.0</td>\n",
       "      <td>15.0</td>\n",
       "      <td>22.0</td>\n",
       "      <td>31.0</td>\n",
       "    </tr>\n",
       "    <tr>\n",
       "      <th>duration</th>\n",
       "      <td>5289.0</td>\n",
       "      <td>537.294574</td>\n",
       "      <td>392.525262</td>\n",
       "      <td>8.0</td>\n",
       "      <td>244.0</td>\n",
       "      <td>426.0</td>\n",
       "      <td>725.0</td>\n",
       "      <td>3881.0</td>\n",
       "    </tr>\n",
       "    <tr>\n",
       "      <th>campaign</th>\n",
       "      <td>5289.0</td>\n",
       "      <td>2.141047</td>\n",
       "      <td>1.921826</td>\n",
       "      <td>1.0</td>\n",
       "      <td>1.0</td>\n",
       "      <td>2.0</td>\n",
       "      <td>3.0</td>\n",
       "      <td>32.0</td>\n",
       "    </tr>\n",
       "    <tr>\n",
       "      <th>pdays</th>\n",
       "      <td>5289.0</td>\n",
       "      <td>68.702968</td>\n",
       "      <td>118.822266</td>\n",
       "      <td>-1.0</td>\n",
       "      <td>-1.0</td>\n",
       "      <td>-1.0</td>\n",
       "      <td>98.0</td>\n",
       "      <td>854.0</td>\n",
       "    </tr>\n",
       "    <tr>\n",
       "      <th>previous</th>\n",
       "      <td>5289.0</td>\n",
       "      <td>1.170354</td>\n",
       "      <td>2.553272</td>\n",
       "      <td>0.0</td>\n",
       "      <td>0.0</td>\n",
       "      <td>0.0</td>\n",
       "      <td>1.0</td>\n",
       "      <td>58.0</td>\n",
       "    </tr>\n",
       "  </tbody>\n",
       "</table>\n",
       "</div>"
      ],
      "text/plain": [
       "           count         mean          std     min    25%    50%     75%  \\\n",
       "age       5289.0    41.670070    13.497781    18.0   31.0   38.0    50.0   \n",
       "balance   5289.0  1804.267915  3501.104777 -3058.0  210.0  733.0  2159.0   \n",
       "day       5289.0    15.158253     8.501875     1.0    8.0   15.0    22.0   \n",
       "duration  5289.0   537.294574   392.525262     8.0  244.0  426.0   725.0   \n",
       "campaign  5289.0     2.141047     1.921826     1.0    1.0    2.0     3.0   \n",
       "pdays     5289.0    68.702968   118.822266    -1.0   -1.0   -1.0    98.0   \n",
       "previous  5289.0     1.170354     2.553272     0.0    0.0    0.0     1.0   \n",
       "\n",
       "              max  \n",
       "age          95.0  \n",
       "balance   81204.0  \n",
       "day          31.0  \n",
       "duration   3881.0  \n",
       "campaign     32.0  \n",
       "pdays       854.0  \n",
       "previous     58.0  "
      ]
     },
     "execution_count": 9,
     "metadata": {},
     "output_type": "execute_result"
    }
   ],
   "source": [
    "sub.describe().transpose()"
   ]
  },
  {
   "cell_type": "code",
   "execution_count": 10,
   "id": "c163e9b9",
   "metadata": {
    "execution": {
     "iopub.execute_input": "2023-02-08T01:39:20.958228Z",
     "iopub.status.busy": "2023-02-08T01:39:20.957832Z",
     "iopub.status.idle": "2023-02-08T01:39:20.998580Z",
     "shell.execute_reply": "2023-02-08T01:39:20.997428Z"
    },
    "papermill": {
     "duration": 0.062194,
     "end_time": "2023-02-08T01:39:21.000927",
     "exception": false,
     "start_time": "2023-02-08T01:39:20.938733",
     "status": "completed"
    },
    "tags": []
   },
   "outputs": [
    {
     "data": {
      "text/html": [
       "<div>\n",
       "<style scoped>\n",
       "    .dataframe tbody tr th:only-of-type {\n",
       "        vertical-align: middle;\n",
       "    }\n",
       "\n",
       "    .dataframe tbody tr th {\n",
       "        vertical-align: top;\n",
       "    }\n",
       "\n",
       "    .dataframe thead th {\n",
       "        text-align: right;\n",
       "    }\n",
       "</style>\n",
       "<table border=\"1\" class=\"dataframe\">\n",
       "  <thead>\n",
       "    <tr style=\"text-align: right;\">\n",
       "      <th></th>\n",
       "      <th>age</th>\n",
       "      <th>balance</th>\n",
       "      <th>day</th>\n",
       "      <th>duration</th>\n",
       "      <th>campaign</th>\n",
       "      <th>pdays</th>\n",
       "      <th>previous</th>\n",
       "    </tr>\n",
       "  </thead>\n",
       "  <tbody>\n",
       "    <tr>\n",
       "      <th>count</th>\n",
       "      <td>39922.000000</td>\n",
       "      <td>39922.000000</td>\n",
       "      <td>39922.000000</td>\n",
       "      <td>39922.000000</td>\n",
       "      <td>39922.000000</td>\n",
       "      <td>39922.000000</td>\n",
       "      <td>39922.000000</td>\n",
       "    </tr>\n",
       "    <tr>\n",
       "      <th>mean</th>\n",
       "      <td>40.838986</td>\n",
       "      <td>1303.714969</td>\n",
       "      <td>15.892290</td>\n",
       "      <td>221.182806</td>\n",
       "      <td>2.846350</td>\n",
       "      <td>36.421372</td>\n",
       "      <td>0.502154</td>\n",
       "    </tr>\n",
       "    <tr>\n",
       "      <th>std</th>\n",
       "      <td>10.172662</td>\n",
       "      <td>2974.195473</td>\n",
       "      <td>8.294728</td>\n",
       "      <td>207.383237</td>\n",
       "      <td>3.212767</td>\n",
       "      <td>96.757135</td>\n",
       "      <td>2.256771</td>\n",
       "    </tr>\n",
       "    <tr>\n",
       "      <th>min</th>\n",
       "      <td>18.000000</td>\n",
       "      <td>-8019.000000</td>\n",
       "      <td>1.000000</td>\n",
       "      <td>0.000000</td>\n",
       "      <td>1.000000</td>\n",
       "      <td>-1.000000</td>\n",
       "      <td>0.000000</td>\n",
       "    </tr>\n",
       "    <tr>\n",
       "      <th>25%</th>\n",
       "      <td>33.000000</td>\n",
       "      <td>58.000000</td>\n",
       "      <td>8.000000</td>\n",
       "      <td>95.000000</td>\n",
       "      <td>1.000000</td>\n",
       "      <td>-1.000000</td>\n",
       "      <td>0.000000</td>\n",
       "    </tr>\n",
       "    <tr>\n",
       "      <th>50%</th>\n",
       "      <td>39.000000</td>\n",
       "      <td>417.000000</td>\n",
       "      <td>16.000000</td>\n",
       "      <td>164.000000</td>\n",
       "      <td>2.000000</td>\n",
       "      <td>-1.000000</td>\n",
       "      <td>0.000000</td>\n",
       "    </tr>\n",
       "    <tr>\n",
       "      <th>75%</th>\n",
       "      <td>48.000000</td>\n",
       "      <td>1345.000000</td>\n",
       "      <td>21.000000</td>\n",
       "      <td>279.000000</td>\n",
       "      <td>3.000000</td>\n",
       "      <td>-1.000000</td>\n",
       "      <td>0.000000</td>\n",
       "    </tr>\n",
       "    <tr>\n",
       "      <th>max</th>\n",
       "      <td>95.000000</td>\n",
       "      <td>102127.000000</td>\n",
       "      <td>31.000000</td>\n",
       "      <td>4918.000000</td>\n",
       "      <td>63.000000</td>\n",
       "      <td>871.000000</td>\n",
       "      <td>275.000000</td>\n",
       "    </tr>\n",
       "  </tbody>\n",
       "</table>\n",
       "</div>"
      ],
      "text/plain": [
       "                age        balance           day      duration      campaign  \\\n",
       "count  39922.000000   39922.000000  39922.000000  39922.000000  39922.000000   \n",
       "mean      40.838986    1303.714969     15.892290    221.182806      2.846350   \n",
       "std       10.172662    2974.195473      8.294728    207.383237      3.212767   \n",
       "min       18.000000   -8019.000000      1.000000      0.000000      1.000000   \n",
       "25%       33.000000      58.000000      8.000000     95.000000      1.000000   \n",
       "50%       39.000000     417.000000     16.000000    164.000000      2.000000   \n",
       "75%       48.000000    1345.000000     21.000000    279.000000      3.000000   \n",
       "max       95.000000  102127.000000     31.000000   4918.000000     63.000000   \n",
       "\n",
       "              pdays      previous  \n",
       "count  39922.000000  39922.000000  \n",
       "mean      36.421372      0.502154  \n",
       "std       96.757135      2.256771  \n",
       "min       -1.000000      0.000000  \n",
       "25%       -1.000000      0.000000  \n",
       "50%       -1.000000      0.000000  \n",
       "75%       -1.000000      0.000000  \n",
       "max      871.000000    275.000000  "
      ]
     },
     "execution_count": 10,
     "metadata": {},
     "output_type": "execute_result"
    }
   ],
   "source": [
    "no_sub.describe()"
   ]
  },
  {
   "cell_type": "markdown",
   "id": "f9d21248",
   "metadata": {
    "papermill": {
     "duration": 0.017625,
     "end_time": "2023-02-08T01:39:21.036385",
     "exception": false,
     "start_time": "2023-02-08T01:39:21.018760",
     "status": "completed"
    },
    "tags": []
   },
   "source": [
    "### 4.3 Question 2 - Is a previous succesfull campain more likely to lead to a subscription?"
   ]
  },
  {
   "cell_type": "code",
   "execution_count": 11,
   "id": "1fdd4917",
   "metadata": {
    "execution": {
     "iopub.execute_input": "2023-02-08T01:39:21.073756Z",
     "iopub.status.busy": "2023-02-08T01:39:21.073379Z",
     "iopub.status.idle": "2023-02-08T01:39:21.082178Z",
     "shell.execute_reply": "2023-02-08T01:39:21.081026Z"
    },
    "papermill": {
     "duration": 0.030406,
     "end_time": "2023-02-08T01:39:21.084467",
     "exception": false,
     "start_time": "2023-02-08T01:39:21.054061",
     "status": "completed"
    },
    "tags": []
   },
   "outputs": [
    {
     "data": {
      "text/plain": [
       "unknown    3386\n",
       "success     978\n",
       "failure     618\n",
       "other       307\n",
       "Name: poutcome, dtype: int64"
      ]
     },
     "execution_count": 11,
     "metadata": {},
     "output_type": "execute_result"
    }
   ],
   "source": [
    "sub.poutcome.value_counts()"
   ]
  },
  {
   "cell_type": "code",
   "execution_count": 12,
   "id": "1cb03aa4",
   "metadata": {
    "execution": {
     "iopub.execute_input": "2023-02-08T01:39:21.122802Z",
     "iopub.status.busy": "2023-02-08T01:39:21.122390Z",
     "iopub.status.idle": "2023-02-08T01:39:21.133106Z",
     "shell.execute_reply": "2023-02-08T01:39:21.132015Z"
    },
    "papermill": {
     "duration": 0.032573,
     "end_time": "2023-02-08T01:39:21.135166",
     "exception": false,
     "start_time": "2023-02-08T01:39:21.102593",
     "status": "completed"
    },
    "tags": []
   },
   "outputs": [
    {
     "data": {
      "text/plain": [
       "unknown    33573\n",
       "failure     4283\n",
       "other       1533\n",
       "success      533\n",
       "Name: poutcome, dtype: int64"
      ]
     },
     "execution_count": 12,
     "metadata": {},
     "output_type": "execute_result"
    }
   ],
   "source": [
    "no_sub.poutcome.value_counts()"
   ]
  },
  {
   "cell_type": "code",
   "execution_count": 13,
   "id": "bcac0b5f",
   "metadata": {
    "execution": {
     "iopub.execute_input": "2023-02-08T01:39:21.173545Z",
     "iopub.status.busy": "2023-02-08T01:39:21.173098Z",
     "iopub.status.idle": "2023-02-08T01:39:21.605696Z",
     "shell.execute_reply": "2023-02-08T01:39:21.604443Z"
    },
    "papermill": {
     "duration": 0.455069,
     "end_time": "2023-02-08T01:39:21.608471",
     "exception": false,
     "start_time": "2023-02-08T01:39:21.153402",
     "status": "completed"
    },
    "tags": []
   },
   "outputs": [
    {
     "data": {
      "text/plain": [
       "<AxesSubplot:title={'center':'No Subcribed'}>"
      ]
     },
     "execution_count": 13,
     "metadata": {},
     "output_type": "execute_result"
    },
    {
     "data": {
      "image/png": "[encoded data removed]",
      "text/plain": [
       "<Figure size 1440x576 with 2 Axes>"
      ]
     },
     "metadata": {
      "needs_background": "light"
     },
     "output_type": "display_data"
    }
   ],
   "source": [
    "fix,ax=plt.subplots(1,2,figsize=(20,8))\n",
    "\n",
    "sub.poutcome.value_counts().plot(kind='bar',ax=ax[0],title='Subscribe')\n",
    "no_sub.poutcome.value_counts().plot(kind=\"bar\",ax=ax[1],title=\"No Subcribed\")"
   ]
  },
  {
   "cell_type": "markdown",
   "id": "e0e8b39f",
   "metadata": {
    "papermill": {
     "duration": 0.018495,
     "end_time": "2023-02-08T01:39:21.645952",
     "exception": false,
     "start_time": "2023-02-08T01:39:21.627457",
     "status": "completed"
    },
    "tags": []
   },
   "source": [
    "For both situations the unknown class is the most common one.\n",
    "\n",
    "By the way, among those ones who subscribed with a contact type by the entire number of people contacted with that mean."
   ]
  },
  {
   "cell_type": "markdown",
   "id": "1246e052",
   "metadata": {
    "papermill": {
     "duration": 0.018255,
     "end_time": "2023-02-08T01:39:21.683644",
     "exception": false,
     "start_time": "2023-02-08T01:39:21.665389",
     "status": "completed"
    },
    "tags": []
   },
   "source": [
    "### 4.4 Question 3- Which contact type is the most succesful?"
   ]
  },
  {
   "cell_type": "markdown",
   "id": "7e5da349",
   "metadata": {
    "papermill": {
     "duration": 0.018314,
     "end_time": "2023-02-08T01:39:21.720589",
     "exception": false,
     "start_time": "2023-02-08T01:39:21.702275",
     "status": "completed"
    },
    "tags": []
   },
   "source": [
    "Diving the number of people who subscribed with a contact type with a contract type the entire number of people contacted with that mean."
   ]
  },
  {
   "cell_type": "code",
   "execution_count": 14,
   "id": "c068dd74",
   "metadata": {
    "execution": {
     "iopub.execute_input": "2023-02-08T01:39:21.761101Z",
     "iopub.status.busy": "2023-02-08T01:39:21.760182Z",
     "iopub.status.idle": "2023-02-08T01:39:21.772739Z",
     "shell.execute_reply": "2023-02-08T01:39:21.771890Z"
    },
    "papermill": {
     "duration": 0.03518,
     "end_time": "2023-02-08T01:39:21.774934",
     "exception": false,
     "start_time": "2023-02-08T01:39:21.739754",
     "status": "completed"
    },
    "tags": []
   },
   "outputs": [
    {
     "data": {
      "text/plain": [
       "cellular     0.149189\n",
       "telephone    0.134205\n",
       "unknown      0.040707\n",
       "Name: contact, dtype: float64"
      ]
     },
     "execution_count": 14,
     "metadata": {},
     "output_type": "execute_result"
    }
   ],
   "source": [
    "(sub.contact.value_counts()/bank.contact.value_counts()).sort_values(ascending=False)"
   ]
  },
  {
   "cell_type": "markdown",
   "id": "83c63d3d",
   "metadata": {
    "execution": {
     "iopub.execute_input": "2023-02-08T00:40:22.257894Z",
     "iopub.status.busy": "2023-02-08T00:40:22.257451Z",
     "iopub.status.idle": "2023-02-08T00:40:22.266206Z",
     "shell.execute_reply": "2023-02-08T00:40:22.264367Z",
     "shell.execute_reply.started": "2023-02-08T00:40:22.257856Z"
    },
    "papermill": {
     "duration": 0.018658,
     "end_time": "2023-02-08T01:39:21.812425",
     "exception": false,
     "start_time": "2023-02-08T01:39:21.793767",
     "status": "completed"
    },
    "tags": []
   },
   "source": [
    "- Cellular seems to be the most succesful."
   ]
  },
  {
   "cell_type": "markdown",
   "id": "eee4aecd",
   "metadata": {
    "papermill": {
     "duration": 0.018323,
     "end_time": "2023-02-08T01:39:21.849524",
     "exception": false,
     "start_time": "2023-02-08T01:39:21.831201",
     "status": "completed"
    },
    "tags": []
   },
   "source": [
    "### 4.5 Question 4 - Which previous contact moth is the most frequent among those who subscibed?"
   ]
  },
  {
   "cell_type": "code",
   "execution_count": 15,
   "id": "487400db",
   "metadata": {
    "execution": {
     "iopub.execute_input": "2023-02-08T01:39:21.888727Z",
     "iopub.status.busy": "2023-02-08T01:39:21.887972Z",
     "iopub.status.idle": "2023-02-08T01:39:22.119236Z",
     "shell.execute_reply": "2023-02-08T01:39:22.118393Z"
    },
    "papermill": {
     "duration": 0.253363,
     "end_time": "2023-02-08T01:39:22.121401",
     "exception": false,
     "start_time": "2023-02-08T01:39:21.868038",
     "status": "completed"
    },
    "tags": []
   },
   "outputs": [
    {
     "data": {
      "text/plain": [
       "Text(0.5, 1.0, 'The campain was done during the spring and summer period')"
      ]
     },
     "execution_count": 15,
     "metadata": {},
     "output_type": "execute_result"
    },
    {
     "data": {
      "image/png": "[encoded data removed]",
      "text/plain": [
       "<Figure size 1080x360 with 1 Axes>"
      ]
     },
     "metadata": {
      "needs_background": "light"
     },
     "output_type": "display_data"
    }
   ],
   "source": [
    "sns.countplot(data=sub,x=\"month\",order=sub.month.value_counts().index)\n",
    "plt.title(\"The campain was done during the spring and summer period\")"
   ]
  },
  {
   "cell_type": "markdown",
   "id": "3f2b59f3",
   "metadata": {
    "papermill": {
     "duration": 0.019419,
     "end_time": "2023-02-08T01:39:22.160013",
     "exception": false,
     "start_time": "2023-02-08T01:39:22.140594",
     "status": "completed"
    },
    "tags": []
   },
   "source": [
    "- Probaly the campaign was during the spring and summer period."
   ]
  },
  {
   "cell_type": "markdown",
   "id": "ff30d06a",
   "metadata": {
    "papermill": {
     "duration": 0.019094,
     "end_time": "2023-02-08T01:39:22.198699",
     "exception": false,
     "start_time": "2023-02-08T01:39:22.179605",
     "status": "completed"
    },
    "tags": []
   },
   "source": [
    "### 4.6 Question 5 - What is the average balance of new subscribers?"
   ]
  },
  {
   "cell_type": "code",
   "execution_count": 16,
   "id": "f4a2f3f3",
   "metadata": {
    "execution": {
     "iopub.execute_input": "2023-02-08T01:39:22.239314Z",
     "iopub.status.busy": "2023-02-08T01:39:22.238309Z",
     "iopub.status.idle": "2023-02-08T01:39:22.248466Z",
     "shell.execute_reply": "2023-02-08T01:39:22.247382Z"
    },
    "papermill": {
     "duration": 0.032892,
     "end_time": "2023-02-08T01:39:22.250738",
     "exception": false,
     "start_time": "2023-02-08T01:39:22.217846",
     "status": "completed"
    },
    "tags": []
   },
   "outputs": [
    {
     "data": {
      "text/plain": [
       "count     5289.000000\n",
       "mean      1804.267915\n",
       "std       3501.104777\n",
       "min      -3058.000000\n",
       "25%        210.000000\n",
       "50%        733.000000\n",
       "75%       2159.000000\n",
       "max      81204.000000\n",
       "Name: balance, dtype: float64"
      ]
     },
     "execution_count": 16,
     "metadata": {},
     "output_type": "execute_result"
    }
   ],
   "source": [
    "sub.balance.describe()"
   ]
  },
  {
   "cell_type": "code",
   "execution_count": 17,
   "id": "e83a40bc",
   "metadata": {
    "execution": {
     "iopub.execute_input": "2023-02-08T01:39:22.291289Z",
     "iopub.status.busy": "2023-02-08T01:39:22.290469Z",
     "iopub.status.idle": "2023-02-08T01:39:22.302264Z",
     "shell.execute_reply": "2023-02-08T01:39:22.301230Z"
    },
    "papermill": {
     "duration": 0.034434,
     "end_time": "2023-02-08T01:39:22.304617",
     "exception": false,
     "start_time": "2023-02-08T01:39:22.270183",
     "status": "completed"
    },
    "tags": []
   },
   "outputs": [
    {
     "data": {
      "text/plain": [
       "count     39922.000000\n",
       "mean       1303.714969\n",
       "std        2974.195473\n",
       "min       -8019.000000\n",
       "25%          58.000000\n",
       "50%         417.000000\n",
       "75%        1345.000000\n",
       "max      102127.000000\n",
       "Name: balance, dtype: float64"
      ]
     },
     "execution_count": 17,
     "metadata": {},
     "output_type": "execute_result"
    }
   ],
   "source": [
    "no_sub.balance.describe()"
   ]
  },
  {
   "cell_type": "markdown",
   "id": "c418a1d6",
   "metadata": {
    "papermill": {
     "duration": 0.020478,
     "end_time": "2023-02-08T01:39:22.344898",
     "exception": false,
     "start_time": "2023-02-08T01:39:22.324420",
     "status": "completed"
    },
    "tags": []
   },
   "source": [
    "- The subscribers have, on average, a higher balance."
   ]
  },
  {
   "cell_type": "markdown",
   "id": "f121c273",
   "metadata": {
    "papermill": {
     "duration": 0.019567,
     "end_time": "2023-02-08T01:39:22.383970",
     "exception": false,
     "start_time": "2023-02-08T01:39:22.364403",
     "status": "completed"
    },
    "tags": []
   },
   "source": [
    "## 5. Feature Engineering\n",
    "- Dividing in inputs and target"
   ]
  },
  {
   "cell_type": "code",
   "execution_count": 18,
   "id": "00d4f3d6",
   "metadata": {
    "execution": {
     "iopub.execute_input": "2023-02-08T01:39:22.426331Z",
     "iopub.status.busy": "2023-02-08T01:39:22.425459Z",
     "iopub.status.idle": "2023-02-08T01:39:22.438879Z",
     "shell.execute_reply": "2023-02-08T01:39:22.437880Z"
    },
    "papermill": {
     "duration": 0.036939,
     "end_time": "2023-02-08T01:39:22.441495",
     "exception": false,
     "start_time": "2023-02-08T01:39:22.404556",
     "status": "completed"
    },
    "tags": []
   },
   "outputs": [],
   "source": [
    "X=bank.drop(columns='subscription')\n",
    "y=bank.subscription"
   ]
  },
  {
   "cell_type": "code",
   "execution_count": 19,
   "id": "22d3e920",
   "metadata": {
    "execution": {
     "iopub.execute_input": "2023-02-08T01:39:22.482918Z",
     "iopub.status.busy": "2023-02-08T01:39:22.481829Z",
     "iopub.status.idle": "2023-02-08T01:39:22.508231Z",
     "shell.execute_reply": "2023-02-08T01:39:22.506868Z"
    },
    "papermill": {
     "duration": 0.050124,
     "end_time": "2023-02-08T01:39:22.511209",
     "exception": false,
     "start_time": "2023-02-08T01:39:22.461085",
     "status": "completed"
    },
    "tags": []
   },
   "outputs": [
    {
     "data": {
      "text/html": [
       "<div>\n",
       "<style scoped>\n",
       "    .dataframe tbody tr th:only-of-type {\n",
       "        vertical-align: middle;\n",
       "    }\n",
       "\n",
       "    .dataframe tbody tr th {\n",
       "        vertical-align: top;\n",
       "    }\n",
       "\n",
       "    .dataframe thead th {\n",
       "        text-align: right;\n",
       "    }\n",
       "</style>\n",
       "<table border=\"1\" class=\"dataframe\">\n",
       "  <thead>\n",
       "    <tr style=\"text-align: right;\">\n",
       "      <th></th>\n",
       "      <th>age</th>\n",
       "      <th>job</th>\n",
       "      <th>marital</th>\n",
       "      <th>education</th>\n",
       "      <th>default</th>\n",
       "      <th>balance</th>\n",
       "      <th>housing</th>\n",
       "      <th>loan</th>\n",
       "      <th>contact</th>\n",
       "      <th>day</th>\n",
       "      <th>month</th>\n",
       "      <th>duration</th>\n",
       "      <th>campaign</th>\n",
       "      <th>pdays</th>\n",
       "      <th>previous</th>\n",
       "      <th>poutcome</th>\n",
       "    </tr>\n",
       "  </thead>\n",
       "  <tbody>\n",
       "    <tr>\n",
       "      <th>0</th>\n",
       "      <td>58</td>\n",
       "      <td>management</td>\n",
       "      <td>married</td>\n",
       "      <td>tertiary</td>\n",
       "      <td>no</td>\n",
       "      <td>2143</td>\n",
       "      <td>yes</td>\n",
       "      <td>no</td>\n",
       "      <td>unknown</td>\n",
       "      <td>5</td>\n",
       "      <td>may</td>\n",
       "      <td>261</td>\n",
       "      <td>1</td>\n",
       "      <td>-1</td>\n",
       "      <td>0</td>\n",
       "      <td>unknown</td>\n",
       "    </tr>\n",
       "    <tr>\n",
       "      <th>1</th>\n",
       "      <td>44</td>\n",
       "      <td>technician</td>\n",
       "      <td>single</td>\n",
       "      <td>secondary</td>\n",
       "      <td>no</td>\n",
       "      <td>29</td>\n",
       "      <td>yes</td>\n",
       "      <td>no</td>\n",
       "      <td>unknown</td>\n",
       "      <td>5</td>\n",
       "      <td>may</td>\n",
       "      <td>151</td>\n",
       "      <td>1</td>\n",
       "      <td>-1</td>\n",
       "      <td>0</td>\n",
       "      <td>unknown</td>\n",
       "    </tr>\n",
       "    <tr>\n",
       "      <th>2</th>\n",
       "      <td>33</td>\n",
       "      <td>entrepreneur</td>\n",
       "      <td>married</td>\n",
       "      <td>secondary</td>\n",
       "      <td>no</td>\n",
       "      <td>2</td>\n",
       "      <td>yes</td>\n",
       "      <td>yes</td>\n",
       "      <td>unknown</td>\n",
       "      <td>5</td>\n",
       "      <td>may</td>\n",
       "      <td>76</td>\n",
       "      <td>1</td>\n",
       "      <td>-1</td>\n",
       "      <td>0</td>\n",
       "      <td>unknown</td>\n",
       "    </tr>\n",
       "    <tr>\n",
       "      <th>3</th>\n",
       "      <td>47</td>\n",
       "      <td>blue-collar</td>\n",
       "      <td>married</td>\n",
       "      <td>unknown</td>\n",
       "      <td>no</td>\n",
       "      <td>1506</td>\n",
       "      <td>yes</td>\n",
       "      <td>no</td>\n",
       "      <td>unknown</td>\n",
       "      <td>5</td>\n",
       "      <td>may</td>\n",
       "      <td>92</td>\n",
       "      <td>1</td>\n",
       "      <td>-1</td>\n",
       "      <td>0</td>\n",
       "      <td>unknown</td>\n",
       "    </tr>\n",
       "    <tr>\n",
       "      <th>4</th>\n",
       "      <td>33</td>\n",
       "      <td>unknown</td>\n",
       "      <td>single</td>\n",
       "      <td>unknown</td>\n",
       "      <td>no</td>\n",
       "      <td>1</td>\n",
       "      <td>no</td>\n",
       "      <td>no</td>\n",
       "      <td>unknown</td>\n",
       "      <td>5</td>\n",
       "      <td>may</td>\n",
       "      <td>198</td>\n",
       "      <td>1</td>\n",
       "      <td>-1</td>\n",
       "      <td>0</td>\n",
       "      <td>unknown</td>\n",
       "    </tr>\n",
       "    <tr>\n",
       "      <th>...</th>\n",
       "      <td>...</td>\n",
       "      <td>...</td>\n",
       "      <td>...</td>\n",
       "      <td>...</td>\n",
       "      <td>...</td>\n",
       "      <td>...</td>\n",
       "      <td>...</td>\n",
       "      <td>...</td>\n",
       "      <td>...</td>\n",
       "      <td>...</td>\n",
       "      <td>...</td>\n",
       "      <td>...</td>\n",
       "      <td>...</td>\n",
       "      <td>...</td>\n",
       "      <td>...</td>\n",
       "      <td>...</td>\n",
       "    </tr>\n",
       "    <tr>\n",
       "      <th>45206</th>\n",
       "      <td>51</td>\n",
       "      <td>technician</td>\n",
       "      <td>married</td>\n",
       "      <td>tertiary</td>\n",
       "      <td>no</td>\n",
       "      <td>825</td>\n",
       "      <td>no</td>\n",
       "      <td>no</td>\n",
       "      <td>cellular</td>\n",
       "      <td>17</td>\n",
       "      <td>nov</td>\n",
       "      <td>977</td>\n",
       "      <td>3</td>\n",
       "      <td>-1</td>\n",
       "      <td>0</td>\n",
       "      <td>unknown</td>\n",
       "    </tr>\n",
       "    <tr>\n",
       "      <th>45207</th>\n",
       "      <td>71</td>\n",
       "      <td>retired</td>\n",
       "      <td>divorced</td>\n",
       "      <td>primary</td>\n",
       "      <td>no</td>\n",
       "      <td>1729</td>\n",
       "      <td>no</td>\n",
       "      <td>no</td>\n",
       "      <td>cellular</td>\n",
       "      <td>17</td>\n",
       "      <td>nov</td>\n",
       "      <td>456</td>\n",
       "      <td>2</td>\n",
       "      <td>-1</td>\n",
       "      <td>0</td>\n",
       "      <td>unknown</td>\n",
       "    </tr>\n",
       "    <tr>\n",
       "      <th>45208</th>\n",
       "      <td>72</td>\n",
       "      <td>retired</td>\n",
       "      <td>married</td>\n",
       "      <td>secondary</td>\n",
       "      <td>no</td>\n",
       "      <td>5715</td>\n",
       "      <td>no</td>\n",
       "      <td>no</td>\n",
       "      <td>cellular</td>\n",
       "      <td>17</td>\n",
       "      <td>nov</td>\n",
       "      <td>1127</td>\n",
       "      <td>5</td>\n",
       "      <td>184</td>\n",
       "      <td>3</td>\n",
       "      <td>success</td>\n",
       "    </tr>\n",
       "    <tr>\n",
       "      <th>45209</th>\n",
       "      <td>57</td>\n",
       "      <td>blue-collar</td>\n",
       "      <td>married</td>\n",
       "      <td>secondary</td>\n",
       "      <td>no</td>\n",
       "      <td>668</td>\n",
       "      <td>no</td>\n",
       "      <td>no</td>\n",
       "      <td>telephone</td>\n",
       "      <td>17</td>\n",
       "      <td>nov</td>\n",
       "      <td>508</td>\n",
       "      <td>4</td>\n",
       "      <td>-1</td>\n",
       "      <td>0</td>\n",
       "      <td>unknown</td>\n",
       "    </tr>\n",
       "    <tr>\n",
       "      <th>45210</th>\n",
       "      <td>37</td>\n",
       "      <td>entrepreneur</td>\n",
       "      <td>married</td>\n",
       "      <td>secondary</td>\n",
       "      <td>no</td>\n",
       "      <td>2971</td>\n",
       "      <td>no</td>\n",
       "      <td>no</td>\n",
       "      <td>cellular</td>\n",
       "      <td>17</td>\n",
       "      <td>nov</td>\n",
       "      <td>361</td>\n",
       "      <td>2</td>\n",
       "      <td>188</td>\n",
       "      <td>11</td>\n",
       "      <td>other</td>\n",
       "    </tr>\n",
       "  </tbody>\n",
       "</table>\n",
       "<p>45211 rows × 16 columns</p>\n",
       "</div>"
      ],
      "text/plain": [
       "       age           job   marital  education default  balance housing loan  \\\n",
       "0       58    management   married   tertiary      no     2143     yes   no   \n",
       "1       44    technician    single  secondary      no       29     yes   no   \n",
       "2       33  entrepreneur   married  secondary      no        2     yes  yes   \n",
       "3       47   blue-collar   married    unknown      no     1506     yes   no   \n",
       "4       33       unknown    single    unknown      no        1      no   no   \n",
       "...    ...           ...       ...        ...     ...      ...     ...  ...   \n",
       "45206   51    technician   married   tertiary      no      825      no   no   \n",
       "45207   71       retired  divorced    primary      no     1729      no   no   \n",
       "45208   72       retired   married  secondary      no     5715      no   no   \n",
       "45209   57   blue-collar   married  secondary      no      668      no   no   \n",
       "45210   37  entrepreneur   married  secondary      no     2971      no   no   \n",
       "\n",
       "         contact  day month  duration  campaign  pdays  previous poutcome  \n",
       "0        unknown    5   may       261         1     -1         0  unknown  \n",
       "1        unknown    5   may       151         1     -1         0  unknown  \n",
       "2        unknown    5   may        76         1     -1         0  unknown  \n",
       "3        unknown    5   may        92         1     -1         0  unknown  \n",
       "4        unknown    5   may       198         1     -1         0  unknown  \n",
       "...          ...  ...   ...       ...       ...    ...       ...      ...  \n",
       "45206   cellular   17   nov       977         3     -1         0  unknown  \n",
       "45207   cellular   17   nov       456         2     -1         0  unknown  \n",
       "45208   cellular   17   nov      1127         5    184         3  success  \n",
       "45209  telephone   17   nov       508         4     -1         0  unknown  \n",
       "45210   cellular   17   nov       361         2    188        11    other  \n",
       "\n",
       "[45211 rows x 16 columns]"
      ]
     },
     "execution_count": 19,
     "metadata": {},
     "output_type": "execute_result"
    }
   ],
   "source": [
    "X"
   ]
  },
  {
   "cell_type": "code",
   "execution_count": 20,
   "id": "ff92cf31",
   "metadata": {
    "execution": {
     "iopub.execute_input": "2023-02-08T01:39:22.553279Z",
     "iopub.status.busy": "2023-02-08T01:39:22.552690Z",
     "iopub.status.idle": "2023-02-08T01:39:22.561124Z",
     "shell.execute_reply": "2023-02-08T01:39:22.560062Z"
    },
    "papermill": {
     "duration": 0.032015,
     "end_time": "2023-02-08T01:39:22.563591",
     "exception": false,
     "start_time": "2023-02-08T01:39:22.531576",
     "status": "completed"
    },
    "tags": []
   },
   "outputs": [
    {
     "data": {
      "text/plain": [
       "0    no\n",
       "1    no\n",
       "2    no\n",
       "3    no\n",
       "4    no\n",
       "Name: subscription, dtype: object"
      ]
     },
     "execution_count": 20,
     "metadata": {},
     "output_type": "execute_result"
    }
   ],
   "source": [
    "y.head()"
   ]
  },
  {
   "cell_type": "markdown",
   "id": "11c2b144",
   "metadata": {
    "execution": {
     "iopub.execute_input": "2023-02-08T00:48:21.775334Z",
     "iopub.status.busy": "2023-02-08T00:48:21.774914Z",
     "iopub.status.idle": "2023-02-08T00:48:21.779723Z",
     "shell.execute_reply": "2023-02-08T00:48:21.778563Z",
     "shell.execute_reply.started": "2023-02-08T00:48:21.775283Z"
    },
    "papermill": {
     "duration": 0.019826,
     "end_time": "2023-02-08T01:39:22.603516",
     "exception": false,
     "start_time": "2023-02-08T01:39:22.583690",
     "status": "completed"
    },
    "tags": []
   },
   "source": [
    "### 5.1 Defining Categorical And Numberical Columns"
   ]
  },
  {
   "cell_type": "code",
   "execution_count": 21,
   "id": "f6c87275",
   "metadata": {
    "execution": {
     "iopub.execute_input": "2023-02-08T01:39:22.646782Z",
     "iopub.status.busy": "2023-02-08T01:39:22.646356Z",
     "iopub.status.idle": "2023-02-08T01:39:22.662199Z",
     "shell.execute_reply": "2023-02-08T01:39:22.660954Z"
    },
    "papermill": {
     "duration": 0.040287,
     "end_time": "2023-02-08T01:39:22.664768",
     "exception": false,
     "start_time": "2023-02-08T01:39:22.624481",
     "status": "completed"
    },
    "tags": []
   },
   "outputs": [],
   "source": [
    "numerical_cols=X.select_dtypes(include=np.number).columns.to_list()\n",
    "categorical_cols=X.select_dtypes(include='object').columns.to_list()"
   ]
  },
  {
   "cell_type": "code",
   "execution_count": 22,
   "id": "6ae3c196",
   "metadata": {
    "execution": {
     "iopub.execute_input": "2023-02-08T01:39:22.707444Z",
     "iopub.status.busy": "2023-02-08T01:39:22.706965Z",
     "iopub.status.idle": "2023-02-08T01:39:22.713941Z",
     "shell.execute_reply": "2023-02-08T01:39:22.712807Z"
    },
    "papermill": {
     "duration": 0.031267,
     "end_time": "2023-02-08T01:39:22.716264",
     "exception": false,
     "start_time": "2023-02-08T01:39:22.684997",
     "status": "completed"
    },
    "tags": []
   },
   "outputs": [
    {
     "data": {
      "text/plain": [
       "['age', 'balance', 'day', 'duration', 'campaign', 'pdays', 'previous']"
      ]
     },
     "execution_count": 22,
     "metadata": {},
     "output_type": "execute_result"
    }
   ],
   "source": [
    "numerical_cols"
   ]
  },
  {
   "cell_type": "code",
   "execution_count": 23,
   "id": "96565694",
   "metadata": {
    "execution": {
     "iopub.execute_input": "2023-02-08T01:39:22.759204Z",
     "iopub.status.busy": "2023-02-08T01:39:22.758831Z",
     "iopub.status.idle": "2023-02-08T01:39:22.765423Z",
     "shell.execute_reply": "2023-02-08T01:39:22.764397Z"
    },
    "papermill": {
     "duration": 0.030999,
     "end_time": "2023-02-08T01:39:22.767601",
     "exception": false,
     "start_time": "2023-02-08T01:39:22.736602",
     "status": "completed"
    },
    "tags": []
   },
   "outputs": [
    {
     "data": {
      "text/plain": [
       "['job',\n",
       " 'marital',\n",
       " 'education',\n",
       " 'default',\n",
       " 'housing',\n",
       " 'loan',\n",
       " 'contact',\n",
       " 'month',\n",
       " 'poutcome']"
      ]
     },
     "execution_count": 23,
     "metadata": {},
     "output_type": "execute_result"
    }
   ],
   "source": [
    "categorical_cols"
   ]
  },
  {
   "cell_type": "markdown",
   "id": "65978daa",
   "metadata": {
    "papermill": {
     "duration": 0.01969,
     "end_time": "2023-02-08T01:39:22.807558",
     "exception": false,
     "start_time": "2023-02-08T01:39:22.787868",
     "status": "completed"
    },
    "tags": []
   },
   "source": [
    "### 5.2 Scaling Numerical Columns"
   ]
  },
  {
   "cell_type": "code",
   "execution_count": 24,
   "id": "43f79fdc",
   "metadata": {
    "execution": {
     "iopub.execute_input": "2023-02-08T01:39:22.849839Z",
     "iopub.status.busy": "2023-02-08T01:39:22.849154Z",
     "iopub.status.idle": "2023-02-08T01:39:23.014807Z",
     "shell.execute_reply": "2023-02-08T01:39:23.013583Z"
    },
    "papermill": {
     "duration": 0.189662,
     "end_time": "2023-02-08T01:39:23.017486",
     "exception": false,
     "start_time": "2023-02-08T01:39:22.827824",
     "status": "completed"
    },
    "tags": []
   },
   "outputs": [],
   "source": [
    "from sklearn.preprocessing import RobustScaler\n",
    "scaler=RobustScaler().fit(X[numerical_cols])\n",
    "\n",
    "X[numerical_cols]=scaler.transform(X[numerical_cols])"
   ]
  },
  {
   "cell_type": "code",
   "execution_count": 25,
   "id": "b1c6bcaa",
   "metadata": {
    "execution": {
     "iopub.execute_input": "2023-02-08T01:39:23.060142Z",
     "iopub.status.busy": "2023-02-08T01:39:23.059688Z",
     "iopub.status.idle": "2023-02-08T01:39:23.082017Z",
     "shell.execute_reply": "2023-02-08T01:39:23.081028Z"
    },
    "papermill": {
     "duration": 0.04607,
     "end_time": "2023-02-08T01:39:23.084273",
     "exception": false,
     "start_time": "2023-02-08T01:39:23.038203",
     "status": "completed"
    },
    "tags": []
   },
   "outputs": [
    {
     "data": {
      "text/html": [
       "<div>\n",
       "<style scoped>\n",
       "    .dataframe tbody tr th:only-of-type {\n",
       "        vertical-align: middle;\n",
       "    }\n",
       "\n",
       "    .dataframe tbody tr th {\n",
       "        vertical-align: top;\n",
       "    }\n",
       "\n",
       "    .dataframe thead th {\n",
       "        text-align: right;\n",
       "    }\n",
       "</style>\n",
       "<table border=\"1\" class=\"dataframe\">\n",
       "  <thead>\n",
       "    <tr style=\"text-align: right;\">\n",
       "      <th></th>\n",
       "      <th>age</th>\n",
       "      <th>job</th>\n",
       "      <th>marital</th>\n",
       "      <th>education</th>\n",
       "      <th>default</th>\n",
       "      <th>balance</th>\n",
       "      <th>housing</th>\n",
       "      <th>loan</th>\n",
       "      <th>contact</th>\n",
       "      <th>day</th>\n",
       "      <th>month</th>\n",
       "      <th>duration</th>\n",
       "      <th>campaign</th>\n",
       "      <th>pdays</th>\n",
       "      <th>previous</th>\n",
       "      <th>poutcome</th>\n",
       "    </tr>\n",
       "  </thead>\n",
       "  <tbody>\n",
       "    <tr>\n",
       "      <th>0</th>\n",
       "      <td>1.266667</td>\n",
       "      <td>management</td>\n",
       "      <td>married</td>\n",
       "      <td>tertiary</td>\n",
       "      <td>no</td>\n",
       "      <td>1.250000</td>\n",
       "      <td>yes</td>\n",
       "      <td>no</td>\n",
       "      <td>unknown</td>\n",
       "      <td>-0.846154</td>\n",
       "      <td>may</td>\n",
       "      <td>0.375000</td>\n",
       "      <td>-0.5</td>\n",
       "      <td>0.0</td>\n",
       "      <td>0.0</td>\n",
       "      <td>unknown</td>\n",
       "    </tr>\n",
       "    <tr>\n",
       "      <th>1</th>\n",
       "      <td>0.333333</td>\n",
       "      <td>technician</td>\n",
       "      <td>single</td>\n",
       "      <td>secondary</td>\n",
       "      <td>no</td>\n",
       "      <td>-0.308997</td>\n",
       "      <td>yes</td>\n",
       "      <td>no</td>\n",
       "      <td>unknown</td>\n",
       "      <td>-0.846154</td>\n",
       "      <td>may</td>\n",
       "      <td>-0.134259</td>\n",
       "      <td>-0.5</td>\n",
       "      <td>0.0</td>\n",
       "      <td>0.0</td>\n",
       "      <td>unknown</td>\n",
       "    </tr>\n",
       "    <tr>\n",
       "      <th>2</th>\n",
       "      <td>-0.400000</td>\n",
       "      <td>entrepreneur</td>\n",
       "      <td>married</td>\n",
       "      <td>secondary</td>\n",
       "      <td>no</td>\n",
       "      <td>-0.328909</td>\n",
       "      <td>yes</td>\n",
       "      <td>yes</td>\n",
       "      <td>unknown</td>\n",
       "      <td>-0.846154</td>\n",
       "      <td>may</td>\n",
       "      <td>-0.481481</td>\n",
       "      <td>-0.5</td>\n",
       "      <td>0.0</td>\n",
       "      <td>0.0</td>\n",
       "      <td>unknown</td>\n",
       "    </tr>\n",
       "    <tr>\n",
       "      <th>3</th>\n",
       "      <td>0.533333</td>\n",
       "      <td>blue-collar</td>\n",
       "      <td>married</td>\n",
       "      <td>unknown</td>\n",
       "      <td>no</td>\n",
       "      <td>0.780236</td>\n",
       "      <td>yes</td>\n",
       "      <td>no</td>\n",
       "      <td>unknown</td>\n",
       "      <td>-0.846154</td>\n",
       "      <td>may</td>\n",
       "      <td>-0.407407</td>\n",
       "      <td>-0.5</td>\n",
       "      <td>0.0</td>\n",
       "      <td>0.0</td>\n",
       "      <td>unknown</td>\n",
       "    </tr>\n",
       "    <tr>\n",
       "      <th>4</th>\n",
       "      <td>-0.400000</td>\n",
       "      <td>unknown</td>\n",
       "      <td>single</td>\n",
       "      <td>unknown</td>\n",
       "      <td>no</td>\n",
       "      <td>-0.329646</td>\n",
       "      <td>no</td>\n",
       "      <td>no</td>\n",
       "      <td>unknown</td>\n",
       "      <td>-0.846154</td>\n",
       "      <td>may</td>\n",
       "      <td>0.083333</td>\n",
       "      <td>-0.5</td>\n",
       "      <td>0.0</td>\n",
       "      <td>0.0</td>\n",
       "      <td>unknown</td>\n",
       "    </tr>\n",
       "  </tbody>\n",
       "</table>\n",
       "</div>"
      ],
      "text/plain": [
       "        age           job  marital  education default   balance housing loan  \\\n",
       "0  1.266667    management  married   tertiary      no  1.250000     yes   no   \n",
       "1  0.333333    technician   single  secondary      no -0.308997     yes   no   \n",
       "2 -0.400000  entrepreneur  married  secondary      no -0.328909     yes  yes   \n",
       "3  0.533333   blue-collar  married    unknown      no  0.780236     yes   no   \n",
       "4 -0.400000       unknown   single    unknown      no -0.329646      no   no   \n",
       "\n",
       "   contact       day month  duration  campaign  pdays  previous poutcome  \n",
       "0  unknown -0.846154   may  0.375000      -0.5    0.0       0.0  unknown  \n",
       "1  unknown -0.846154   may -0.134259      -0.5    0.0       0.0  unknown  \n",
       "2  unknown -0.846154   may -0.481481      -0.5    0.0       0.0  unknown  \n",
       "3  unknown -0.846154   may -0.407407      -0.5    0.0       0.0  unknown  \n",
       "4  unknown -0.846154   may  0.083333      -0.5    0.0       0.0  unknown  "
      ]
     },
     "execution_count": 25,
     "metadata": {},
     "output_type": "execute_result"
    }
   ],
   "source": [
    "X.head()"
   ]
  },
  {
   "cell_type": "markdown",
   "id": "e6303501",
   "metadata": {
    "papermill": {
     "duration": 0.02036,
     "end_time": "2023-02-08T01:39:23.125312",
     "exception": false,
     "start_time": "2023-02-08T01:39:23.104952",
     "status": "completed"
    },
    "tags": []
   },
   "source": [
    "### 5.3 One-Hot Encoding Categorical Columns\n"
   ]
  },
  {
   "cell_type": "code",
   "execution_count": 26,
   "id": "b75c4977",
   "metadata": {
    "execution": {
     "iopub.execute_input": "2023-02-08T01:39:23.169173Z",
     "iopub.status.busy": "2023-02-08T01:39:23.168446Z",
     "iopub.status.idle": "2023-02-08T01:39:23.374231Z",
     "shell.execute_reply": "2023-02-08T01:39:23.372715Z"
    },
    "papermill": {
     "duration": 0.231109,
     "end_time": "2023-02-08T01:39:23.377243",
     "exception": false,
     "start_time": "2023-02-08T01:39:23.146134",
     "status": "completed"
    },
    "tags": []
   },
   "outputs": [],
   "source": [
    "from sklearn.preprocessing import OneHotEncoder\n",
    "\n",
    "encoder= OneHotEncoder(sparse=False).fit(X[categorical_cols])\n",
    "\n",
    "encoder_cols=list(encoder.get_feature_names_out(categorical_cols))\n",
    "X[encoder_cols]=encoder.transform(X[categorical_cols])"
   ]
  },
  {
   "cell_type": "code",
   "execution_count": 27,
   "id": "18f5f4ff",
   "metadata": {
    "execution": {
     "iopub.execute_input": "2023-02-08T01:39:23.421066Z",
     "iopub.status.busy": "2023-02-08T01:39:23.420658Z",
     "iopub.status.idle": "2023-02-08T01:39:23.455059Z",
     "shell.execute_reply": "2023-02-08T01:39:23.453764Z"
    },
    "papermill": {
     "duration": 0.059574,
     "end_time": "2023-02-08T01:39:23.458069",
     "exception": false,
     "start_time": "2023-02-08T01:39:23.398495",
     "status": "completed"
    },
    "tags": []
   },
   "outputs": [],
   "source": [
    " X.drop(columns=categorical_cols, inplace=True)"
   ]
  },
  {
   "cell_type": "markdown",
   "id": "68d32000",
   "metadata": {
    "papermill": {
     "duration": 0.020875,
     "end_time": "2023-02-08T01:39:23.499956",
     "exception": false,
     "start_time": "2023-02-08T01:39:23.479081",
     "status": "completed"
    },
    "tags": []
   },
   "source": [
    "### 5.4 Changing “yes” and “no” into 0 and 1"
   ]
  },
  {
   "cell_type": "code",
   "execution_count": 28,
   "id": "c61efe95",
   "metadata": {
    "execution": {
     "iopub.execute_input": "2023-02-08T01:39:23.543325Z",
     "iopub.status.busy": "2023-02-08T01:39:23.542837Z",
     "iopub.status.idle": "2023-02-08T01:39:23.552006Z",
     "shell.execute_reply": "2023-02-08T01:39:23.550934Z"
    },
    "papermill": {
     "duration": 0.033626,
     "end_time": "2023-02-08T01:39:23.554449",
     "exception": false,
     "start_time": "2023-02-08T01:39:23.520823",
     "status": "completed"
    },
    "tags": []
   },
   "outputs": [],
   "source": [
    "subs_dict = {'no':0, 'yes':1}\n",
    "\n",
    "y = y.map(subs_dict)"
   ]
  },
  {
   "cell_type": "code",
   "execution_count": 29,
   "id": "6fa90595",
   "metadata": {
    "execution": {
     "iopub.execute_input": "2023-02-08T01:39:23.597966Z",
     "iopub.status.busy": "2023-02-08T01:39:23.597280Z",
     "iopub.status.idle": "2023-02-08T01:39:23.605413Z",
     "shell.execute_reply": "2023-02-08T01:39:23.604555Z"
    },
    "papermill": {
     "duration": 0.032169,
     "end_time": "2023-02-08T01:39:23.607495",
     "exception": false,
     "start_time": "2023-02-08T01:39:23.575326",
     "status": "completed"
    },
    "tags": []
   },
   "outputs": [
    {
     "data": {
      "text/plain": [
       "0        0\n",
       "1        0\n",
       "2        0\n",
       "3        0\n",
       "4        0\n",
       "        ..\n",
       "45206    1\n",
       "45207    1\n",
       "45208    1\n",
       "45209    0\n",
       "45210    0\n",
       "Name: subscription, Length: 45211, dtype: int64"
      ]
     },
     "execution_count": 29,
     "metadata": {},
     "output_type": "execute_result"
    }
   ],
   "source": [
    "y"
   ]
  },
  {
   "cell_type": "markdown",
   "id": "f93b4113",
   "metadata": {
    "papermill": {
     "duration": 0.020263,
     "end_time": "2023-02-08T01:39:23.648625",
     "exception": false,
     "start_time": "2023-02-08T01:39:23.628362",
     "status": "completed"
    },
    "tags": []
   },
   "source": [
    "## 6 Splitting the Dataest"
   ]
  },
  {
   "cell_type": "code",
   "execution_count": 30,
   "id": "00b08a99",
   "metadata": {
    "execution": {
     "iopub.execute_input": "2023-02-08T01:39:23.692844Z",
     "iopub.status.busy": "2023-02-08T01:39:23.691592Z",
     "iopub.status.idle": "2023-02-08T01:39:23.777102Z",
     "shell.execute_reply": "2023-02-08T01:39:23.776170Z"
    },
    "papermill": {
     "duration": 0.110244,
     "end_time": "2023-02-08T01:39:23.779658",
     "exception": false,
     "start_time": "2023-02-08T01:39:23.669414",
     "status": "completed"
    },
    "tags": []
   },
   "outputs": [],
   "source": [
    "from sklearn.model_selection import train_test_split\n",
    "X_train, X_val, y_train, y_val = train_test_split(X,y, test_size=0.20,random_state=42)"
   ]
  },
  {
   "cell_type": "markdown",
   "id": "ba842549",
   "metadata": {
    "papermill": {
     "duration": 0.020247,
     "end_time": "2023-02-08T01:39:23.820633",
     "exception": false,
     "start_time": "2023-02-08T01:39:23.800386",
     "status": "completed"
    },
    "tags": []
   },
   "source": [
    "## 7 Creating the Machine Learning Model"
   ]
  },
  {
   "cell_type": "code",
   "execution_count": 31,
   "id": "cb77344b",
   "metadata": {
    "execution": {
     "iopub.execute_input": "2023-02-08T01:39:23.863724Z",
     "iopub.status.busy": "2023-02-08T01:39:23.863235Z",
     "iopub.status.idle": "2023-02-08T01:39:29.891291Z",
     "shell.execute_reply": "2023-02-08T01:39:29.890137Z"
    },
    "papermill": {
     "duration": 6.052665,
     "end_time": "2023-02-08T01:39:29.893811",
     "exception": false,
     "start_time": "2023-02-08T01:39:23.841146",
     "status": "completed"
    },
    "tags": []
   },
   "outputs": [
    {
     "name": "stdout",
     "output_type": "stream",
     "text": [
      "[0]\tvalidation_0-logloss:0.50882\tvalidation_1-logloss:0.51269\n",
      "[1]\tvalidation_0-logloss:0.40632\tvalidation_1-logloss:0.41326\n",
      "[2]\tvalidation_0-logloss:0.34284\tvalidation_1-logloss:0.35205\n",
      "[3]\tvalidation_0-logloss:0.30024\tvalidation_1-logloss:0.31194\n",
      "[4]\tvalidation_0-logloss:0.27136\tvalidation_1-logloss:0.28540\n",
      "[5]\tvalidation_0-logloss:0.25087\tvalidation_1-logloss:0.26762\n",
      "[6]\tvalidation_0-logloss:0.23562\tvalidation_1-logloss:0.25386\n",
      "[7]\tvalidation_0-logloss:0.22489\tvalidation_1-logloss:0.24418\n",
      "[8]\tvalidation_0-logloss:0.21467\tvalidation_1-logloss:0.23446\n",
      "[9]\tvalidation_0-logloss:0.20816\tvalidation_1-logloss:0.22900\n",
      "[10]\tvalidation_0-logloss:0.20238\tvalidation_1-logloss:0.22402\n",
      "[11]\tvalidation_0-logloss:0.19811\tvalidation_1-logloss:0.22068\n",
      "[12]\tvalidation_0-logloss:0.19492\tvalidation_1-logloss:0.21786\n",
      "[13]\tvalidation_0-logloss:0.19257\tvalidation_1-logloss:0.21655\n",
      "[14]\tvalidation_0-logloss:0.19002\tvalidation_1-logloss:0.21482\n",
      "[15]\tvalidation_0-logloss:0.18766\tvalidation_1-logloss:0.21355\n",
      "[16]\tvalidation_0-logloss:0.18416\tvalidation_1-logloss:0.21096\n",
      "[17]\tvalidation_0-logloss:0.18221\tvalidation_1-logloss:0.20967\n",
      "[18]\tvalidation_0-logloss:0.18011\tvalidation_1-logloss:0.20852\n",
      "[19]\tvalidation_0-logloss:0.17838\tvalidation_1-logloss:0.20798\n",
      "[20]\tvalidation_0-logloss:0.17678\tvalidation_1-logloss:0.20753\n",
      "[21]\tvalidation_0-logloss:0.17453\tvalidation_1-logloss:0.20597\n",
      "[22]\tvalidation_0-logloss:0.17389\tvalidation_1-logloss:0.20567\n",
      "[23]\tvalidation_0-logloss:0.17236\tvalidation_1-logloss:0.20530\n",
      "[24]\tvalidation_0-logloss:0.17145\tvalidation_1-logloss:0.20536\n",
      "[25]\tvalidation_0-logloss:0.17014\tvalidation_1-logloss:0.20522\n",
      "[26]\tvalidation_0-logloss:0.16827\tvalidation_1-logloss:0.20457\n",
      "[27]\tvalidation_0-logloss:0.16706\tvalidation_1-logloss:0.20438\n",
      "[28]\tvalidation_0-logloss:0.16660\tvalidation_1-logloss:0.20447\n",
      "[29]\tvalidation_0-logloss:0.16556\tvalidation_1-logloss:0.20455\n",
      "[30]\tvalidation_0-logloss:0.16502\tvalidation_1-logloss:0.20468\n",
      "[31]\tvalidation_0-logloss:0.16426\tvalidation_1-logloss:0.20436\n",
      "[32]\tvalidation_0-logloss:0.16284\tvalidation_1-logloss:0.20370\n",
      "[33]\tvalidation_0-logloss:0.16187\tvalidation_1-logloss:0.20367\n",
      "[34]\tvalidation_0-logloss:0.16059\tvalidation_1-logloss:0.20351\n",
      "[35]\tvalidation_0-logloss:0.15880\tvalidation_1-logloss:0.20282\n",
      "[36]\tvalidation_0-logloss:0.15825\tvalidation_1-logloss:0.20284\n",
      "[37]\tvalidation_0-logloss:0.15768\tvalidation_1-logloss:0.20258\n",
      "[38]\tvalidation_0-logloss:0.15617\tvalidation_1-logloss:0.20196\n",
      "[39]\tvalidation_0-logloss:0.15433\tvalidation_1-logloss:0.20121\n",
      "[40]\tvalidation_0-logloss:0.15353\tvalidation_1-logloss:0.20125\n",
      "[41]\tvalidation_0-logloss:0.15268\tvalidation_1-logloss:0.20146\n",
      "[42]\tvalidation_0-logloss:0.15190\tvalidation_1-logloss:0.20148\n",
      "[43]\tvalidation_0-logloss:0.15124\tvalidation_1-logloss:0.20135\n",
      "[44]\tvalidation_0-logloss:0.15054\tvalidation_1-logloss:0.20120\n",
      "[45]\tvalidation_0-logloss:0.14996\tvalidation_1-logloss:0.20116\n",
      "[46]\tvalidation_0-logloss:0.14923\tvalidation_1-logloss:0.20111\n",
      "[47]\tvalidation_0-logloss:0.14795\tvalidation_1-logloss:0.20101\n",
      "[48]\tvalidation_0-logloss:0.14719\tvalidation_1-logloss:0.20092\n",
      "[49]\tvalidation_0-logloss:0.14705\tvalidation_1-logloss:0.20098\n",
      "[50]\tvalidation_0-logloss:0.14679\tvalidation_1-logloss:0.20107\n",
      "[51]\tvalidation_0-logloss:0.14631\tvalidation_1-logloss:0.20095\n",
      "[52]\tvalidation_0-logloss:0.14624\tvalidation_1-logloss:0.20094\n",
      "[53]\tvalidation_0-logloss:0.14588\tvalidation_1-logloss:0.20101\n",
      "[54]\tvalidation_0-logloss:0.14476\tvalidation_1-logloss:0.20079\n",
      "[55]\tvalidation_0-logloss:0.14397\tvalidation_1-logloss:0.20095\n",
      "[56]\tvalidation_0-logloss:0.14331\tvalidation_1-logloss:0.20085\n",
      "[57]\tvalidation_0-logloss:0.14249\tvalidation_1-logloss:0.20082\n",
      "[58]\tvalidation_0-logloss:0.14194\tvalidation_1-logloss:0.20077\n",
      "[59]\tvalidation_0-logloss:0.14180\tvalidation_1-logloss:0.20085\n",
      "[60]\tvalidation_0-logloss:0.14142\tvalidation_1-logloss:0.20099\n",
      "[61]\tvalidation_0-logloss:0.14128\tvalidation_1-logloss:0.20096\n",
      "[62]\tvalidation_0-logloss:0.14121\tvalidation_1-logloss:0.20100\n",
      "[63]\tvalidation_0-logloss:0.14046\tvalidation_1-logloss:0.20138\n",
      "[64]\tvalidation_0-logloss:0.13919\tvalidation_1-logloss:0.20115\n",
      "[65]\tvalidation_0-logloss:0.13825\tvalidation_1-logloss:0.20078\n",
      "[66]\tvalidation_0-logloss:0.13793\tvalidation_1-logloss:0.20107\n",
      "[67]\tvalidation_0-logloss:0.13708\tvalidation_1-logloss:0.20147\n",
      "[68]\tvalidation_0-logloss:0.13669\tvalidation_1-logloss:0.20137\n",
      "[69]\tvalidation_0-logloss:0.13640\tvalidation_1-logloss:0.20158\n",
      "[70]\tvalidation_0-logloss:0.13523\tvalidation_1-logloss:0.20171\n",
      "[71]\tvalidation_0-logloss:0.13413\tvalidation_1-logloss:0.20199\n",
      "[72]\tvalidation_0-logloss:0.13275\tvalidation_1-logloss:0.20214\n",
      "[73]\tvalidation_0-logloss:0.13204\tvalidation_1-logloss:0.20206\n",
      "[74]\tvalidation_0-logloss:0.13159\tvalidation_1-logloss:0.20208\n",
      "[75]\tvalidation_0-logloss:0.13138\tvalidation_1-logloss:0.20221\n",
      "[76]\tvalidation_0-logloss:0.13024\tvalidation_1-logloss:0.20186\n",
      "[77]\tvalidation_0-logloss:0.13011\tvalidation_1-logloss:0.20177\n",
      "[78]\tvalidation_0-logloss:0.12965\tvalidation_1-logloss:0.20176\n",
      "[79]\tvalidation_0-logloss:0.12951\tvalidation_1-logloss:0.20178\n",
      "[80]\tvalidation_0-logloss:0.12923\tvalidation_1-logloss:0.20205\n",
      "[81]\tvalidation_0-logloss:0.12892\tvalidation_1-logloss:0.20223\n",
      "[82]\tvalidation_0-logloss:0.12851\tvalidation_1-logloss:0.20241\n",
      "[83]\tvalidation_0-logloss:0.12790\tvalidation_1-logloss:0.20242\n",
      "[84]\tvalidation_0-logloss:0.12760\tvalidation_1-logloss:0.20249\n",
      "[85]\tvalidation_0-logloss:0.12691\tvalidation_1-logloss:0.20257\n",
      "[86]\tvalidation_0-logloss:0.12662\tvalidation_1-logloss:0.20261\n",
      "[87]\tvalidation_0-logloss:0.12632\tvalidation_1-logloss:0.20280\n",
      "[88]\tvalidation_0-logloss:0.12626\tvalidation_1-logloss:0.20277\n",
      "[89]\tvalidation_0-logloss:0.12581\tvalidation_1-logloss:0.20284\n",
      "[90]\tvalidation_0-logloss:0.12572\tvalidation_1-logloss:0.20283\n",
      "[91]\tvalidation_0-logloss:0.12514\tvalidation_1-logloss:0.20277\n",
      "[92]\tvalidation_0-logloss:0.12473\tvalidation_1-logloss:0.20285\n",
      "[93]\tvalidation_0-logloss:0.12431\tvalidation_1-logloss:0.20297\n",
      "[94]\tvalidation_0-logloss:0.12428\tvalidation_1-logloss:0.20305\n",
      "[95]\tvalidation_0-logloss:0.12395\tvalidation_1-logloss:0.20300\n",
      "[96]\tvalidation_0-logloss:0.12332\tvalidation_1-logloss:0.20324\n",
      "[97]\tvalidation_0-logloss:0.12272\tvalidation_1-logloss:0.20338\n",
      "[98]\tvalidation_0-logloss:0.12210\tvalidation_1-logloss:0.20351\n",
      "[99]\tvalidation_0-logloss:0.12176\tvalidation_1-logloss:0.20371\n",
      "[100]\tvalidation_0-logloss:0.12104\tvalidation_1-logloss:0.20371\n",
      "[101]\tvalidation_0-logloss:0.12065\tvalidation_1-logloss:0.20382\n",
      "[102]\tvalidation_0-logloss:0.12043\tvalidation_1-logloss:0.20403\n",
      "[103]\tvalidation_0-logloss:0.12002\tvalidation_1-logloss:0.20402\n",
      "[104]\tvalidation_0-logloss:0.11983\tvalidation_1-logloss:0.20388\n",
      "[105]\tvalidation_0-logloss:0.11920\tvalidation_1-logloss:0.20405\n",
      "[106]\tvalidation_0-logloss:0.11895\tvalidation_1-logloss:0.20440\n",
      "[107]\tvalidation_0-logloss:0.11816\tvalidation_1-logloss:0.20470\n"
     ]
    },
    {
     "data": {
      "text/plain": [
       "XGBClassifier(base_score=0.5, booster='gbtree', callbacks=None,\n",
       "              colsample_bylevel=1, colsample_bynode=1, colsample_bytree=1,\n",
       "              early_stopping_rounds=50, enable_categorical=False,\n",
       "              eval_metric=None, gamma=0, gpu_id=-1, grow_policy='depthwise',\n",
       "              importance_type=None, interaction_constraints='',\n",
       "              learning_rate=0.300000012, max_bin=256, max_cat_to_onehot=4,\n",
       "              max_delta_step=0, max_depth=6, max_leaves=0, min_child_weight=1,\n",
       "              missing=nan, monotone_constraints='()', n_estimators=1000,\n",
       "              n_jobs=-1, num_parallel_tree=1, predictor='auto', random_state=42,\n",
       "              reg_alpha=0, reg_lambda=1, ...)"
      ]
     },
     "execution_count": 31,
     "metadata": {},
     "output_type": "execute_result"
    }
   ],
   "source": [
    "from xgboost import XGBClassifier\n",
    "\n",
    "ml_model = XGBClassifier(n_jobs=-1, n_estimators=1000,early_stopping_rounds=50, random_state=42)\n",
    "ml_model.fit(X_train, y_train, eval_set=[(X_train, y_train), (X_val, y_val)])"
   ]
  },
  {
   "cell_type": "code",
   "execution_count": 32,
   "id": "dca4d008",
   "metadata": {
    "execution": {
     "iopub.execute_input": "2023-02-08T01:39:29.950941Z",
     "iopub.status.busy": "2023-02-08T01:39:29.950470Z",
     "iopub.status.idle": "2023-02-08T01:39:29.957802Z",
     "shell.execute_reply": "2023-02-08T01:39:29.956651Z"
    },
    "papermill": {
     "duration": 0.038544,
     "end_time": "2023-02-08T01:39:29.960233",
     "exception": false,
     "start_time": "2023-02-08T01:39:29.921689",
     "status": "completed"
    },
    "tags": []
   },
   "outputs": [
    {
     "data": {
      "text/plain": [
       "59"
      ]
     },
     "execution_count": 32,
     "metadata": {},
     "output_type": "execute_result"
    }
   ],
   "source": [
    "ml_model.best_ntree_limit"
   ]
  },
  {
   "cell_type": "code",
   "execution_count": 33,
   "id": "92b3d868",
   "metadata": {
    "execution": {
     "iopub.execute_input": "2023-02-08T01:39:30.018356Z",
     "iopub.status.busy": "2023-02-08T01:39:30.017890Z",
     "iopub.status.idle": "2023-02-08T01:39:32.766015Z",
     "shell.execute_reply": "2023-02-08T01:39:32.764818Z"
    },
    "papermill": {
     "duration": 2.780218,
     "end_time": "2023-02-08T01:39:32.768624",
     "exception": false,
     "start_time": "2023-02-08T01:39:29.988406",
     "status": "completed"
    },
    "tags": []
   },
   "outputs": [
    {
     "data": {
      "text/plain": [
       "XGBClassifier(base_score=0.5, booster='gbtree', callbacks=None,\n",
       "              colsample_bylevel=1, colsample_bynode=1, colsample_bytree=1,\n",
       "              early_stopping_rounds=None, enable_categorical=False,\n",
       "              eval_metric=None, gamma=0, gpu_id=-1, grow_policy='depthwise',\n",
       "              importance_type=None, interaction_constraints='',\n",
       "              learning_rate=0.300000012, max_bin=256, max_cat_to_onehot=4,\n",
       "              max_delta_step=0, max_depth=6, max_leaves=0, min_child_weight=1,\n",
       "              missing=nan, monotone_constraints='()', n_estimators=59,\n",
       "              n_jobs=-1, num_parallel_tree=1, predictor='auto', random_state=42,\n",
       "              reg_alpha=0, reg_lambda=1, ...)"
      ]
     },
     "execution_count": 33,
     "metadata": {},
     "output_type": "execute_result"
    }
   ],
   "source": [
    "ml_model = XGBClassifier(n_jobs=-1, n_estimators=59, random_state=42)\n",
    "ml_model.fit(X_train, y_train)"
   ]
  },
  {
   "cell_type": "markdown",
   "id": "aaa250c1",
   "metadata": {
    "papermill": {
     "duration": 0.027763,
     "end_time": "2023-02-08T01:39:32.824206",
     "exception": false,
     "start_time": "2023-02-08T01:39:32.796443",
     "status": "completed"
    },
    "tags": []
   },
   "source": [
    "- Checking the accuracy"
   ]
  },
  {
   "cell_type": "code",
   "execution_count": 34,
   "id": "1bedf23f",
   "metadata": {
    "execution": {
     "iopub.execute_input": "2023-02-08T01:39:32.882508Z",
     "iopub.status.busy": "2023-02-08T01:39:32.882034Z",
     "iopub.status.idle": "2023-02-08T01:39:32.947329Z",
     "shell.execute_reply": "2023-02-08T01:39:32.946097Z"
    },
    "papermill": {
     "duration": 0.098118,
     "end_time": "2023-02-08T01:39:32.950709",
     "exception": false,
     "start_time": "2023-02-08T01:39:32.852591",
     "status": "completed"
    },
    "tags": []
   },
   "outputs": [
    {
     "name": "stdout",
     "output_type": "stream",
     "text": [
      "Train Accuracy: 0.9421311656713116\n",
      "Validation Accuracy: 0.9086586309852925\n"
     ]
    }
   ],
   "source": [
    "from sklearn.metrics import accuracy_score\n",
    "print('Train Accuracy: {}'.format(accuracy_score(y_train, ml_model.predict(X_train))))\n",
    "print('Validation Accuracy: {}'.format(accuracy_score(y_val, ml_model.predict(X_val))))"
   ]
  },
  {
   "cell_type": "code",
   "execution_count": 35,
   "id": "05b413c8",
   "metadata": {
    "execution": {
     "iopub.execute_input": "2023-02-08T01:39:33.008398Z",
     "iopub.status.busy": "2023-02-08T01:39:33.007966Z",
     "iopub.status.idle": "2023-02-08T01:39:33.045836Z",
     "shell.execute_reply": "2023-02-08T01:39:33.044756Z"
    },
    "papermill": {
     "duration": 0.070142,
     "end_time": "2023-02-08T01:39:33.048863",
     "exception": false,
     "start_time": "2023-02-08T01:39:32.978721",
     "status": "completed"
    },
    "tags": []
   },
   "outputs": [
    {
     "name": "stdout",
     "output_type": "stream",
     "text": [
      "              precision    recall  f1-score   support\n",
      "\n",
      "           0       0.93      0.97      0.95      7952\n",
      "           1       0.66      0.49      0.57      1091\n",
      "\n",
      "    accuracy                           0.91      9043\n",
      "   macro avg       0.80      0.73      0.76      9043\n",
      "weighted avg       0.90      0.91      0.90      9043\n",
      "\n"
     ]
    }
   ],
   "source": [
    "from sklearn.metrics import classification_report\n",
    "print(classification_report(y_val, ml_model.predict(X_val)))"
   ]
  },
  {
   "cell_type": "markdown",
   "id": "913ba0a7",
   "metadata": {
    "execution": {
     "iopub.execute_input": "2023-02-08T01:29:18.744955Z",
     "iopub.status.busy": "2023-02-08T01:29:18.743857Z",
     "iopub.status.idle": "2023-02-08T01:29:18.751455Z",
     "shell.execute_reply": "2023-02-08T01:29:18.749910Z",
     "shell.execute_reply.started": "2023-02-08T01:29:18.744907Z"
    },
    "papermill": {
     "duration": 0.027697,
     "end_time": "2023-02-08T01:39:33.105005",
     "exception": false,
     "start_time": "2023-02-08T01:39:33.077308",
     "status": "completed"
    },
    "tags": []
   },
   "source": [
    "- On will be used SMOTE"
   ]
  },
  {
   "cell_type": "markdown",
   "id": "f9e7eb75",
   "metadata": {
    "papermill": {
     "duration": 0.027878,
     "end_time": "2023-02-08T01:39:33.161247",
     "exception": false,
     "start_time": "2023-02-08T01:39:33.133369",
     "status": "completed"
    },
    "tags": []
   },
   "source": [
    "## 8 Dataset Balancing"
   ]
  },
  {
   "cell_type": "code",
   "execution_count": 36,
   "id": "17910023",
   "metadata": {
    "execution": {
     "iopub.execute_input": "2023-02-08T01:39:33.219256Z",
     "iopub.status.busy": "2023-02-08T01:39:33.218785Z",
     "iopub.status.idle": "2023-02-08T01:39:34.384330Z",
     "shell.execute_reply": "2023-02-08T01:39:34.382979Z"
    },
    "papermill": {
     "duration": 1.197775,
     "end_time": "2023-02-08T01:39:34.387022",
     "exception": false,
     "start_time": "2023-02-08T01:39:33.189247",
     "status": "completed"
    },
    "tags": []
   },
   "outputs": [],
   "source": [
    "from imblearn.over_sampling import SMOTE\n",
    "\n",
    "smote = SMOTE(sampling_strategy='minority')\n",
    "\n",
    "# Creating two new X and y with SMOTE\n",
    "\n",
    "X_sm, y_sm = smote.fit_resample(X,y)"
   ]
  },
  {
   "cell_type": "code",
   "execution_count": 37,
   "id": "de6b6aab",
   "metadata": {
    "execution": {
     "iopub.execute_input": "2023-02-08T01:39:34.446409Z",
     "iopub.status.busy": "2023-02-08T01:39:34.445207Z",
     "iopub.status.idle": "2023-02-08T01:39:34.523109Z",
     "shell.execute_reply": "2023-02-08T01:39:34.521979Z"
    },
    "papermill": {
     "duration": 0.109488,
     "end_time": "2023-02-08T01:39:34.525584",
     "exception": false,
     "start_time": "2023-02-08T01:39:34.416096",
     "status": "completed"
    },
    "tags": []
   },
   "outputs": [
    {
     "data": {
      "text/html": [
       "<div>\n",
       "<style scoped>\n",
       "    .dataframe tbody tr th:only-of-type {\n",
       "        vertical-align: middle;\n",
       "    }\n",
       "\n",
       "    .dataframe tbody tr th {\n",
       "        vertical-align: top;\n",
       "    }\n",
       "\n",
       "    .dataframe thead th {\n",
       "        text-align: right;\n",
       "    }\n",
       "</style>\n",
       "<table border=\"1\" class=\"dataframe\">\n",
       "  <thead>\n",
       "    <tr style=\"text-align: right;\">\n",
       "      <th></th>\n",
       "      <th>age</th>\n",
       "      <th>balance</th>\n",
       "      <th>day</th>\n",
       "      <th>duration</th>\n",
       "      <th>campaign</th>\n",
       "      <th>pdays</th>\n",
       "      <th>previous</th>\n",
       "      <th>job_admin.</th>\n",
       "      <th>job_blue-collar</th>\n",
       "      <th>job_entrepreneur</th>\n",
       "      <th>...</th>\n",
       "      <th>month_jun</th>\n",
       "      <th>month_mar</th>\n",
       "      <th>month_may</th>\n",
       "      <th>month_nov</th>\n",
       "      <th>month_oct</th>\n",
       "      <th>month_sep</th>\n",
       "      <th>poutcome_failure</th>\n",
       "      <th>poutcome_other</th>\n",
       "      <th>poutcome_success</th>\n",
       "      <th>poutcome_unknown</th>\n",
       "    </tr>\n",
       "  </thead>\n",
       "  <tbody>\n",
       "    <tr>\n",
       "      <th>0</th>\n",
       "      <td>1.266667</td>\n",
       "      <td>1.250000</td>\n",
       "      <td>-0.846154</td>\n",
       "      <td>0.375000</td>\n",
       "      <td>-0.500000</td>\n",
       "      <td>0.0</td>\n",
       "      <td>0.0</td>\n",
       "      <td>0.000000</td>\n",
       "      <td>0.000000</td>\n",
       "      <td>0.0</td>\n",
       "      <td>...</td>\n",
       "      <td>0.000000</td>\n",
       "      <td>0.0</td>\n",
       "      <td>1.000000</td>\n",
       "      <td>0.0</td>\n",
       "      <td>0.0</td>\n",
       "      <td>0.000000</td>\n",
       "      <td>0.0</td>\n",
       "      <td>0.0</td>\n",
       "      <td>0.0</td>\n",
       "      <td>1.0</td>\n",
       "    </tr>\n",
       "    <tr>\n",
       "      <th>1</th>\n",
       "      <td>0.333333</td>\n",
       "      <td>-0.308997</td>\n",
       "      <td>-0.846154</td>\n",
       "      <td>-0.134259</td>\n",
       "      <td>-0.500000</td>\n",
       "      <td>0.0</td>\n",
       "      <td>0.0</td>\n",
       "      <td>0.000000</td>\n",
       "      <td>0.000000</td>\n",
       "      <td>0.0</td>\n",
       "      <td>...</td>\n",
       "      <td>0.000000</td>\n",
       "      <td>0.0</td>\n",
       "      <td>1.000000</td>\n",
       "      <td>0.0</td>\n",
       "      <td>0.0</td>\n",
       "      <td>0.000000</td>\n",
       "      <td>0.0</td>\n",
       "      <td>0.0</td>\n",
       "      <td>0.0</td>\n",
       "      <td>1.0</td>\n",
       "    </tr>\n",
       "    <tr>\n",
       "      <th>2</th>\n",
       "      <td>-0.400000</td>\n",
       "      <td>-0.328909</td>\n",
       "      <td>-0.846154</td>\n",
       "      <td>-0.481481</td>\n",
       "      <td>-0.500000</td>\n",
       "      <td>0.0</td>\n",
       "      <td>0.0</td>\n",
       "      <td>0.000000</td>\n",
       "      <td>0.000000</td>\n",
       "      <td>1.0</td>\n",
       "      <td>...</td>\n",
       "      <td>0.000000</td>\n",
       "      <td>0.0</td>\n",
       "      <td>1.000000</td>\n",
       "      <td>0.0</td>\n",
       "      <td>0.0</td>\n",
       "      <td>0.000000</td>\n",
       "      <td>0.0</td>\n",
       "      <td>0.0</td>\n",
       "      <td>0.0</td>\n",
       "      <td>1.0</td>\n",
       "    </tr>\n",
       "    <tr>\n",
       "      <th>3</th>\n",
       "      <td>0.533333</td>\n",
       "      <td>0.780236</td>\n",
       "      <td>-0.846154</td>\n",
       "      <td>-0.407407</td>\n",
       "      <td>-0.500000</td>\n",
       "      <td>0.0</td>\n",
       "      <td>0.0</td>\n",
       "      <td>0.000000</td>\n",
       "      <td>1.000000</td>\n",
       "      <td>0.0</td>\n",
       "      <td>...</td>\n",
       "      <td>0.000000</td>\n",
       "      <td>0.0</td>\n",
       "      <td>1.000000</td>\n",
       "      <td>0.0</td>\n",
       "      <td>0.0</td>\n",
       "      <td>0.000000</td>\n",
       "      <td>0.0</td>\n",
       "      <td>0.0</td>\n",
       "      <td>0.0</td>\n",
       "      <td>1.0</td>\n",
       "    </tr>\n",
       "    <tr>\n",
       "      <th>4</th>\n",
       "      <td>-0.400000</td>\n",
       "      <td>-0.329646</td>\n",
       "      <td>-0.846154</td>\n",
       "      <td>0.083333</td>\n",
       "      <td>-0.500000</td>\n",
       "      <td>0.0</td>\n",
       "      <td>0.0</td>\n",
       "      <td>0.000000</td>\n",
       "      <td>0.000000</td>\n",
       "      <td>0.0</td>\n",
       "      <td>...</td>\n",
       "      <td>0.000000</td>\n",
       "      <td>0.0</td>\n",
       "      <td>1.000000</td>\n",
       "      <td>0.0</td>\n",
       "      <td>0.0</td>\n",
       "      <td>0.000000</td>\n",
       "      <td>0.0</td>\n",
       "      <td>0.0</td>\n",
       "      <td>0.0</td>\n",
       "      <td>1.0</td>\n",
       "    </tr>\n",
       "    <tr>\n",
       "      <th>...</th>\n",
       "      <td>...</td>\n",
       "      <td>...</td>\n",
       "      <td>...</td>\n",
       "      <td>...</td>\n",
       "      <td>...</td>\n",
       "      <td>...</td>\n",
       "      <td>...</td>\n",
       "      <td>...</td>\n",
       "      <td>...</td>\n",
       "      <td>...</td>\n",
       "      <td>...</td>\n",
       "      <td>...</td>\n",
       "      <td>...</td>\n",
       "      <td>...</td>\n",
       "      <td>...</td>\n",
       "      <td>...</td>\n",
       "      <td>...</td>\n",
       "      <td>...</td>\n",
       "      <td>...</td>\n",
       "      <td>...</td>\n",
       "      <td>...</td>\n",
       "    </tr>\n",
       "    <tr>\n",
       "      <th>79839</th>\n",
       "      <td>1.800271</td>\n",
       "      <td>1.163182</td>\n",
       "      <td>0.175958</td>\n",
       "      <td>0.211594</td>\n",
       "      <td>0.000000</td>\n",
       "      <td>0.0</td>\n",
       "      <td>0.0</td>\n",
       "      <td>0.000000</td>\n",
       "      <td>0.000000</td>\n",
       "      <td>0.0</td>\n",
       "      <td>...</td>\n",
       "      <td>0.000000</td>\n",
       "      <td>0.0</td>\n",
       "      <td>0.000000</td>\n",
       "      <td>0.0</td>\n",
       "      <td>0.0</td>\n",
       "      <td>0.000000</td>\n",
       "      <td>0.0</td>\n",
       "      <td>0.0</td>\n",
       "      <td>0.0</td>\n",
       "      <td>1.0</td>\n",
       "    </tr>\n",
       "    <tr>\n",
       "      <th>79840</th>\n",
       "      <td>-0.502075</td>\n",
       "      <td>-0.502628</td>\n",
       "      <td>0.846154</td>\n",
       "      <td>3.000536</td>\n",
       "      <td>-0.132782</td>\n",
       "      <td>0.0</td>\n",
       "      <td>0.0</td>\n",
       "      <td>1.000000</td>\n",
       "      <td>0.000000</td>\n",
       "      <td>0.0</td>\n",
       "      <td>...</td>\n",
       "      <td>0.734435</td>\n",
       "      <td>0.0</td>\n",
       "      <td>0.265565</td>\n",
       "      <td>0.0</td>\n",
       "      <td>0.0</td>\n",
       "      <td>0.000000</td>\n",
       "      <td>0.0</td>\n",
       "      <td>0.0</td>\n",
       "      <td>0.0</td>\n",
       "      <td>1.0</td>\n",
       "    </tr>\n",
       "    <tr>\n",
       "      <th>79841</th>\n",
       "      <td>0.250985</td>\n",
       "      <td>-0.020359</td>\n",
       "      <td>-0.586951</td>\n",
       "      <td>8.819525</td>\n",
       "      <td>-0.016802</td>\n",
       "      <td>0.0</td>\n",
       "      <td>0.0</td>\n",
       "      <td>0.000000</td>\n",
       "      <td>0.000000</td>\n",
       "      <td>0.0</td>\n",
       "      <td>...</td>\n",
       "      <td>0.033603</td>\n",
       "      <td>0.0</td>\n",
       "      <td>0.966397</td>\n",
       "      <td>0.0</td>\n",
       "      <td>0.0</td>\n",
       "      <td>0.000000</td>\n",
       "      <td>0.0</td>\n",
       "      <td>0.0</td>\n",
       "      <td>0.0</td>\n",
       "      <td>1.0</td>\n",
       "    </tr>\n",
       "    <tr>\n",
       "      <th>79842</th>\n",
       "      <td>1.988103</td>\n",
       "      <td>0.037104</td>\n",
       "      <td>0.349950</td>\n",
       "      <td>1.291537</td>\n",
       "      <td>-0.314556</td>\n",
       "      <td>0.0</td>\n",
       "      <td>0.0</td>\n",
       "      <td>0.000000</td>\n",
       "      <td>0.000000</td>\n",
       "      <td>0.0</td>\n",
       "      <td>...</td>\n",
       "      <td>0.000000</td>\n",
       "      <td>0.0</td>\n",
       "      <td>0.000000</td>\n",
       "      <td>0.0</td>\n",
       "      <td>0.0</td>\n",
       "      <td>0.000000</td>\n",
       "      <td>0.0</td>\n",
       "      <td>0.0</td>\n",
       "      <td>0.0</td>\n",
       "      <td>1.0</td>\n",
       "    </tr>\n",
       "    <tr>\n",
       "      <th>79843</th>\n",
       "      <td>-0.703901</td>\n",
       "      <td>-0.206121</td>\n",
       "      <td>0.118862</td>\n",
       "      <td>5.417196</td>\n",
       "      <td>-0.110372</td>\n",
       "      <td>0.0</td>\n",
       "      <td>0.0</td>\n",
       "      <td>0.779256</td>\n",
       "      <td>0.220744</td>\n",
       "      <td>0.0</td>\n",
       "      <td>...</td>\n",
       "      <td>0.220744</td>\n",
       "      <td>0.0</td>\n",
       "      <td>0.000000</td>\n",
       "      <td>0.0</td>\n",
       "      <td>0.0</td>\n",
       "      <td>0.779256</td>\n",
       "      <td>0.0</td>\n",
       "      <td>0.0</td>\n",
       "      <td>0.0</td>\n",
       "      <td>1.0</td>\n",
       "    </tr>\n",
       "  </tbody>\n",
       "</table>\n",
       "<p>79844 rows × 51 columns</p>\n",
       "</div>"
      ],
      "text/plain": [
       "            age   balance       day  duration  campaign  pdays  previous  \\\n",
       "0      1.266667  1.250000 -0.846154  0.375000 -0.500000    0.0       0.0   \n",
       "1      0.333333 -0.308997 -0.846154 -0.134259 -0.500000    0.0       0.0   \n",
       "2     -0.400000 -0.328909 -0.846154 -0.481481 -0.500000    0.0       0.0   \n",
       "3      0.533333  0.780236 -0.846154 -0.407407 -0.500000    0.0       0.0   \n",
       "4     -0.400000 -0.329646 -0.846154  0.083333 -0.500000    0.0       0.0   \n",
       "...         ...       ...       ...       ...       ...    ...       ...   \n",
       "79839  1.800271  1.163182  0.175958  0.211594  0.000000    0.0       0.0   \n",
       "79840 -0.502075 -0.502628  0.846154  3.000536 -0.132782    0.0       0.0   \n",
       "79841  0.250985 -0.020359 -0.586951  8.819525 -0.016802    0.0       0.0   \n",
       "79842  1.988103  0.037104  0.349950  1.291537 -0.314556    0.0       0.0   \n",
       "79843 -0.703901 -0.206121  0.118862  5.417196 -0.110372    0.0       0.0   \n",
       "\n",
       "       job_admin.  job_blue-collar  job_entrepreneur  ...  month_jun  \\\n",
       "0        0.000000         0.000000               0.0  ...   0.000000   \n",
       "1        0.000000         0.000000               0.0  ...   0.000000   \n",
       "2        0.000000         0.000000               1.0  ...   0.000000   \n",
       "3        0.000000         1.000000               0.0  ...   0.000000   \n",
       "4        0.000000         0.000000               0.0  ...   0.000000   \n",
       "...           ...              ...               ...  ...        ...   \n",
       "79839    0.000000         0.000000               0.0  ...   0.000000   \n",
       "79840    1.000000         0.000000               0.0  ...   0.734435   \n",
       "79841    0.000000         0.000000               0.0  ...   0.033603   \n",
       "79842    0.000000         0.000000               0.0  ...   0.000000   \n",
       "79843    0.779256         0.220744               0.0  ...   0.220744   \n",
       "\n",
       "       month_mar  month_may  month_nov  month_oct  month_sep  \\\n",
       "0            0.0   1.000000        0.0        0.0   0.000000   \n",
       "1            0.0   1.000000        0.0        0.0   0.000000   \n",
       "2            0.0   1.000000        0.0        0.0   0.000000   \n",
       "3            0.0   1.000000        0.0        0.0   0.000000   \n",
       "4            0.0   1.000000        0.0        0.0   0.000000   \n",
       "...          ...        ...        ...        ...        ...   \n",
       "79839        0.0   0.000000        0.0        0.0   0.000000   \n",
       "79840        0.0   0.265565        0.0        0.0   0.000000   \n",
       "79841        0.0   0.966397        0.0        0.0   0.000000   \n",
       "79842        0.0   0.000000        0.0        0.0   0.000000   \n",
       "79843        0.0   0.000000        0.0        0.0   0.779256   \n",
       "\n",
       "       poutcome_failure  poutcome_other  poutcome_success  poutcome_unknown  \n",
       "0                   0.0             0.0               0.0               1.0  \n",
       "1                   0.0             0.0               0.0               1.0  \n",
       "2                   0.0             0.0               0.0               1.0  \n",
       "3                   0.0             0.0               0.0               1.0  \n",
       "4                   0.0             0.0               0.0               1.0  \n",
       "...                 ...             ...               ...               ...  \n",
       "79839               0.0             0.0               0.0               1.0  \n",
       "79840               0.0             0.0               0.0               1.0  \n",
       "79841               0.0             0.0               0.0               1.0  \n",
       "79842               0.0             0.0               0.0               1.0  \n",
       "79843               0.0             0.0               0.0               1.0  \n",
       "\n",
       "[79844 rows x 51 columns]"
      ]
     },
     "execution_count": 37,
     "metadata": {},
     "output_type": "execute_result"
    }
   ],
   "source": [
    "X_sm"
   ]
  },
  {
   "cell_type": "code",
   "execution_count": 38,
   "id": "e1dedb39",
   "metadata": {
    "execution": {
     "iopub.execute_input": "2023-02-08T01:39:34.585371Z",
     "iopub.status.busy": "2023-02-08T01:39:34.584182Z",
     "iopub.status.idle": "2023-02-08T01:39:34.592963Z",
     "shell.execute_reply": "2023-02-08T01:39:34.591889Z"
    },
    "papermill": {
     "duration": 0.041232,
     "end_time": "2023-02-08T01:39:34.595461",
     "exception": false,
     "start_time": "2023-02-08T01:39:34.554229",
     "status": "completed"
    },
    "tags": []
   },
   "outputs": [
    {
     "data": {
      "text/plain": [
       "0        0\n",
       "1        0\n",
       "2        0\n",
       "3        0\n",
       "4        0\n",
       "        ..\n",
       "79839    1\n",
       "79840    1\n",
       "79841    1\n",
       "79842    1\n",
       "79843    1\n",
       "Name: subscription, Length: 79844, dtype: int64"
      ]
     },
     "execution_count": 38,
     "metadata": {},
     "output_type": "execute_result"
    }
   ],
   "source": [
    "y_sm"
   ]
  },
  {
   "cell_type": "markdown",
   "id": "4f349e2a",
   "metadata": {
    "papermill": {
     "duration": 0.028978,
     "end_time": "2023-02-08T01:39:34.653221",
     "exception": false,
     "start_time": "2023-02-08T01:39:34.624243",
     "status": "completed"
    },
    "tags": []
   },
   "source": [
    "- Seeing the differance."
   ]
  },
  {
   "cell_type": "code",
   "execution_count": 39,
   "id": "da19fc3e",
   "metadata": {
    "execution": {
     "iopub.execute_input": "2023-02-08T01:39:34.712530Z",
     "iopub.status.busy": "2023-02-08T01:39:34.712070Z",
     "iopub.status.idle": "2023-02-08T01:39:34.720974Z",
     "shell.execute_reply": "2023-02-08T01:39:34.719892Z"
    },
    "papermill": {
     "duration": 0.041276,
     "end_time": "2023-02-08T01:39:34.723192",
     "exception": false,
     "start_time": "2023-02-08T01:39:34.681916",
     "status": "completed"
    },
    "tags": []
   },
   "outputs": [
    {
     "data": {
      "text/plain": [
       "0    39922\n",
       "1     5289\n",
       "Name: subscription, dtype: int64"
      ]
     },
     "execution_count": 39,
     "metadata": {},
     "output_type": "execute_result"
    }
   ],
   "source": [
    "y.value_counts()"
   ]
  },
  {
   "cell_type": "code",
   "execution_count": 40,
   "id": "21e6e8b5",
   "metadata": {
    "execution": {
     "iopub.execute_input": "2023-02-08T01:39:34.783197Z",
     "iopub.status.busy": "2023-02-08T01:39:34.782757Z",
     "iopub.status.idle": "2023-02-08T01:39:34.792127Z",
     "shell.execute_reply": "2023-02-08T01:39:34.791020Z"
    },
    "papermill": {
     "duration": 0.0417,
     "end_time": "2023-02-08T01:39:34.794510",
     "exception": false,
     "start_time": "2023-02-08T01:39:34.752810",
     "status": "completed"
    },
    "tags": []
   },
   "outputs": [
    {
     "data": {
      "text/plain": [
       "0    39922\n",
       "1    39922\n",
       "Name: subscription, dtype: int64"
      ]
     },
     "execution_count": 40,
     "metadata": {},
     "output_type": "execute_result"
    }
   ],
   "source": [
    "y_sm.value_counts()"
   ]
  },
  {
   "cell_type": "markdown",
   "id": "937d56f4",
   "metadata": {
    "papermill": {
     "duration": 0.028457,
     "end_time": "2023-02-08T01:39:34.851972",
     "exception": false,
     "start_time": "2023-02-08T01:39:34.823515",
     "status": "completed"
    },
    "tags": []
   },
   "source": [
    "- Now classes are balanced"
   ]
  },
  {
   "cell_type": "markdown",
   "id": "d42eb549",
   "metadata": {
    "papermill": {
     "duration": 0.028732,
     "end_time": "2023-02-08T01:39:34.909541",
     "exception": false,
     "start_time": "2023-02-08T01:39:34.880809",
     "status": "completed"
    },
    "tags": []
   },
   "source": [
    "### 8.1 Splitting"
   ]
  },
  {
   "cell_type": "code",
   "execution_count": 41,
   "id": "efe58c2b",
   "metadata": {
    "execution": {
     "iopub.execute_input": "2023-02-08T01:39:34.970718Z",
     "iopub.status.busy": "2023-02-08T01:39:34.970310Z",
     "iopub.status.idle": "2023-02-08T01:39:35.050983Z",
     "shell.execute_reply": "2023-02-08T01:39:35.049775Z"
    },
    "papermill": {
     "duration": 0.11476,
     "end_time": "2023-02-08T01:39:35.053601",
     "exception": false,
     "start_time": "2023-02-08T01:39:34.938841",
     "status": "completed"
    },
    "tags": []
   },
   "outputs": [],
   "source": [
    "X_train_sm, X_val_sm, y_train_sm, y_val_sm = train_test_split(X_sm, y_sm,stratify=y_sm ,test_size=0.20, random_state=42)"
   ]
  },
  {
   "cell_type": "markdown",
   "id": "9eb531b4",
   "metadata": {
    "papermill": {
     "duration": 0.029459,
     "end_time": "2023-02-08T01:39:35.111905",
     "exception": false,
     "start_time": "2023-02-08T01:39:35.082446",
     "status": "completed"
    },
    "tags": []
   },
   "source": [
    "### 8.2 Splitting "
   ]
  },
  {
   "cell_type": "code",
   "execution_count": 42,
   "id": "dacd58e5",
   "metadata": {
    "execution": {
     "iopub.execute_input": "2023-02-08T01:39:35.171314Z",
     "iopub.status.busy": "2023-02-08T01:39:35.170890Z",
     "iopub.status.idle": "2023-02-08T01:39:55.484144Z",
     "shell.execute_reply": "2023-02-08T01:39:55.483203Z"
    },
    "papermill": {
     "duration": 20.345478,
     "end_time": "2023-02-08T01:39:55.486364",
     "exception": false,
     "start_time": "2023-02-08T01:39:35.140886",
     "status": "completed"
    },
    "tags": []
   },
   "outputs": [
    {
     "name": "stdout",
     "output_type": "stream",
     "text": [
      "[0]\tvalidation_0-logloss:0.54820\tvalidation_1-logloss:0.55087\n",
      "[1]\tvalidation_0-logloss:0.46635\tvalidation_1-logloss:0.47091\n",
      "[2]\tvalidation_0-logloss:0.41244\tvalidation_1-logloss:0.41801\n",
      "[3]\tvalidation_0-logloss:0.37575\tvalidation_1-logloss:0.38157\n",
      "[4]\tvalidation_0-logloss:0.34590\tvalidation_1-logloss:0.35200\n",
      "[5]\tvalidation_0-logloss:0.32233\tvalidation_1-logloss:0.32962\n",
      "[6]\tvalidation_0-logloss:0.30417\tvalidation_1-logloss:0.31198\n",
      "[7]\tvalidation_0-logloss:0.28775\tvalidation_1-logloss:0.29509\n",
      "[8]\tvalidation_0-logloss:0.26087\tvalidation_1-logloss:0.26885\n",
      "[9]\tvalidation_0-logloss:0.25030\tvalidation_1-logloss:0.25858\n",
      "[10]\tvalidation_0-logloss:0.23924\tvalidation_1-logloss:0.24759\n",
      "[11]\tvalidation_0-logloss:0.22458\tvalidation_1-logloss:0.23324\n",
      "[12]\tvalidation_0-logloss:0.21895\tvalidation_1-logloss:0.22722\n",
      "[13]\tvalidation_0-logloss:0.21068\tvalidation_1-logloss:0.21857\n",
      "[14]\tvalidation_0-logloss:0.20628\tvalidation_1-logloss:0.21426\n",
      "[15]\tvalidation_0-logloss:0.19932\tvalidation_1-logloss:0.20778\n",
      "[16]\tvalidation_0-logloss:0.19624\tvalidation_1-logloss:0.20516\n",
      "[17]\tvalidation_0-logloss:0.19055\tvalidation_1-logloss:0.19969\n",
      "[18]\tvalidation_0-logloss:0.18405\tvalidation_1-logloss:0.19355\n",
      "[19]\tvalidation_0-logloss:0.17617\tvalidation_1-logloss:0.18586\n",
      "[20]\tvalidation_0-logloss:0.17098\tvalidation_1-logloss:0.18040\n",
      "[21]\tvalidation_0-logloss:0.16739\tvalidation_1-logloss:0.17726\n",
      "[22]\tvalidation_0-logloss:0.16350\tvalidation_1-logloss:0.17350\n",
      "[23]\tvalidation_0-logloss:0.16139\tvalidation_1-logloss:0.17178\n",
      "[24]\tvalidation_0-logloss:0.15779\tvalidation_1-logloss:0.16853\n",
      "[25]\tvalidation_0-logloss:0.15611\tvalidation_1-logloss:0.16708\n",
      "[26]\tvalidation_0-logloss:0.15433\tvalidation_1-logloss:0.16570\n",
      "[27]\tvalidation_0-logloss:0.15086\tvalidation_1-logloss:0.16295\n",
      "[28]\tvalidation_0-logloss:0.14808\tvalidation_1-logloss:0.16032\n",
      "[29]\tvalidation_0-logloss:0.14562\tvalidation_1-logloss:0.15814\n",
      "[30]\tvalidation_0-logloss:0.14433\tvalidation_1-logloss:0.15698\n",
      "[31]\tvalidation_0-logloss:0.14217\tvalidation_1-logloss:0.15514\n",
      "[32]\tvalidation_0-logloss:0.14019\tvalidation_1-logloss:0.15360\n",
      "[33]\tvalidation_0-logloss:0.13835\tvalidation_1-logloss:0.15189\n",
      "[34]\tvalidation_0-logloss:0.13703\tvalidation_1-logloss:0.15065\n",
      "[35]\tvalidation_0-logloss:0.13532\tvalidation_1-logloss:0.14934\n",
      "[36]\tvalidation_0-logloss:0.13298\tvalidation_1-logloss:0.14719\n",
      "[37]\tvalidation_0-logloss:0.13175\tvalidation_1-logloss:0.14652\n",
      "[38]\tvalidation_0-logloss:0.12967\tvalidation_1-logloss:0.14493\n",
      "[39]\tvalidation_0-logloss:0.12777\tvalidation_1-logloss:0.14315\n",
      "[40]\tvalidation_0-logloss:0.12598\tvalidation_1-logloss:0.14205\n",
      "[41]\tvalidation_0-logloss:0.12515\tvalidation_1-logloss:0.14173\n",
      "[42]\tvalidation_0-logloss:0.12399\tvalidation_1-logloss:0.14086\n",
      "[43]\tvalidation_0-logloss:0.12262\tvalidation_1-logloss:0.13986\n",
      "[44]\tvalidation_0-logloss:0.12131\tvalidation_1-logloss:0.13867\n",
      "[45]\tvalidation_0-logloss:0.12058\tvalidation_1-logloss:0.13845\n",
      "[46]\tvalidation_0-logloss:0.11890\tvalidation_1-logloss:0.13697\n",
      "[47]\tvalidation_0-logloss:0.11781\tvalidation_1-logloss:0.13624\n",
      "[48]\tvalidation_0-logloss:0.11675\tvalidation_1-logloss:0.13556\n",
      "[49]\tvalidation_0-logloss:0.11520\tvalidation_1-logloss:0.13426\n",
      "[50]\tvalidation_0-logloss:0.11487\tvalidation_1-logloss:0.13408\n",
      "[51]\tvalidation_0-logloss:0.11413\tvalidation_1-logloss:0.13369\n",
      "[52]\tvalidation_0-logloss:0.11354\tvalidation_1-logloss:0.13338\n",
      "[53]\tvalidation_0-logloss:0.11284\tvalidation_1-logloss:0.13298\n",
      "[54]\tvalidation_0-logloss:0.11188\tvalidation_1-logloss:0.13223\n",
      "[55]\tvalidation_0-logloss:0.11128\tvalidation_1-logloss:0.13203\n",
      "[56]\tvalidation_0-logloss:0.11002\tvalidation_1-logloss:0.13148\n",
      "[57]\tvalidation_0-logloss:0.10938\tvalidation_1-logloss:0.13138\n",
      "[58]\tvalidation_0-logloss:0.10852\tvalidation_1-logloss:0.13098\n",
      "[59]\tvalidation_0-logloss:0.10751\tvalidation_1-logloss:0.13018\n",
      "[60]\tvalidation_0-logloss:0.10699\tvalidation_1-logloss:0.12982\n",
      "[61]\tvalidation_0-logloss:0.10543\tvalidation_1-logloss:0.12850\n",
      "[62]\tvalidation_0-logloss:0.10443\tvalidation_1-logloss:0.12792\n",
      "[63]\tvalidation_0-logloss:0.10334\tvalidation_1-logloss:0.12734\n",
      "[64]\tvalidation_0-logloss:0.10277\tvalidation_1-logloss:0.12742\n",
      "[65]\tvalidation_0-logloss:0.10226\tvalidation_1-logloss:0.12689\n",
      "[66]\tvalidation_0-logloss:0.10202\tvalidation_1-logloss:0.12689\n",
      "[67]\tvalidation_0-logloss:0.10153\tvalidation_1-logloss:0.12677\n",
      "[68]\tvalidation_0-logloss:0.10086\tvalidation_1-logloss:0.12635\n",
      "[69]\tvalidation_0-logloss:0.10029\tvalidation_1-logloss:0.12604\n",
      "[70]\tvalidation_0-logloss:0.09967\tvalidation_1-logloss:0.12603\n",
      "[71]\tvalidation_0-logloss:0.09914\tvalidation_1-logloss:0.12569\n",
      "[72]\tvalidation_0-logloss:0.09867\tvalidation_1-logloss:0.12541\n",
      "[73]\tvalidation_0-logloss:0.09796\tvalidation_1-logloss:0.12470\n",
      "[74]\tvalidation_0-logloss:0.09711\tvalidation_1-logloss:0.12440\n",
      "[75]\tvalidation_0-logloss:0.09632\tvalidation_1-logloss:0.12405\n",
      "[76]\tvalidation_0-logloss:0.09581\tvalidation_1-logloss:0.12373\n",
      "[77]\tvalidation_0-logloss:0.09554\tvalidation_1-logloss:0.12370\n",
      "[78]\tvalidation_0-logloss:0.09515\tvalidation_1-logloss:0.12363\n",
      "[79]\tvalidation_0-logloss:0.09402\tvalidation_1-logloss:0.12308\n",
      "[80]\tvalidation_0-logloss:0.09373\tvalidation_1-logloss:0.12290\n",
      "[81]\tvalidation_0-logloss:0.09338\tvalidation_1-logloss:0.12296\n",
      "[82]\tvalidation_0-logloss:0.09238\tvalidation_1-logloss:0.12219\n",
      "[83]\tvalidation_0-logloss:0.09195\tvalidation_1-logloss:0.12212\n",
      "[84]\tvalidation_0-logloss:0.09102\tvalidation_1-logloss:0.12149\n",
      "[85]\tvalidation_0-logloss:0.09033\tvalidation_1-logloss:0.12131\n",
      "[86]\tvalidation_0-logloss:0.08988\tvalidation_1-logloss:0.12116\n",
      "[87]\tvalidation_0-logloss:0.08950\tvalidation_1-logloss:0.12114\n",
      "[88]\tvalidation_0-logloss:0.08892\tvalidation_1-logloss:0.12080\n",
      "[89]\tvalidation_0-logloss:0.08860\tvalidation_1-logloss:0.12063\n",
      "[90]\tvalidation_0-logloss:0.08800\tvalidation_1-logloss:0.12054\n",
      "[91]\tvalidation_0-logloss:0.08739\tvalidation_1-logloss:0.12029\n",
      "[92]\tvalidation_0-logloss:0.08677\tvalidation_1-logloss:0.12017\n",
      "[93]\tvalidation_0-logloss:0.08667\tvalidation_1-logloss:0.12020\n",
      "[94]\tvalidation_0-logloss:0.08644\tvalidation_1-logloss:0.12028\n",
      "[95]\tvalidation_0-logloss:0.08618\tvalidation_1-logloss:0.12039\n",
      "[96]\tvalidation_0-logloss:0.08595\tvalidation_1-logloss:0.12027\n",
      "[97]\tvalidation_0-logloss:0.08572\tvalidation_1-logloss:0.12025\n",
      "[98]\tvalidation_0-logloss:0.08513\tvalidation_1-logloss:0.12011\n",
      "[99]\tvalidation_0-logloss:0.08442\tvalidation_1-logloss:0.11978\n",
      "[100]\tvalidation_0-logloss:0.08419\tvalidation_1-logloss:0.11975\n",
      "[101]\tvalidation_0-logloss:0.08382\tvalidation_1-logloss:0.11966\n",
      "[102]\tvalidation_0-logloss:0.08357\tvalidation_1-logloss:0.11969\n",
      "[103]\tvalidation_0-logloss:0.08317\tvalidation_1-logloss:0.11971\n",
      "[104]\tvalidation_0-logloss:0.08291\tvalidation_1-logloss:0.11953\n",
      "[105]\tvalidation_0-logloss:0.08267\tvalidation_1-logloss:0.11956\n",
      "[106]\tvalidation_0-logloss:0.08254\tvalidation_1-logloss:0.11949\n",
      "[107]\tvalidation_0-logloss:0.08223\tvalidation_1-logloss:0.11956\n",
      "[108]\tvalidation_0-logloss:0.08208\tvalidation_1-logloss:0.11968\n",
      "[109]\tvalidation_0-logloss:0.08189\tvalidation_1-logloss:0.11973\n",
      "[110]\tvalidation_0-logloss:0.08163\tvalidation_1-logloss:0.11976\n",
      "[111]\tvalidation_0-logloss:0.08124\tvalidation_1-logloss:0.11977\n",
      "[112]\tvalidation_0-logloss:0.08056\tvalidation_1-logloss:0.11933\n",
      "[113]\tvalidation_0-logloss:0.08004\tvalidation_1-logloss:0.11915\n",
      "[114]\tvalidation_0-logloss:0.07964\tvalidation_1-logloss:0.11893\n",
      "[115]\tvalidation_0-logloss:0.07930\tvalidation_1-logloss:0.11907\n",
      "[116]\tvalidation_0-logloss:0.07918\tvalidation_1-logloss:0.11900\n",
      "[117]\tvalidation_0-logloss:0.07901\tvalidation_1-logloss:0.11908\n",
      "[118]\tvalidation_0-logloss:0.07867\tvalidation_1-logloss:0.11878\n",
      "[119]\tvalidation_0-logloss:0.07834\tvalidation_1-logloss:0.11880\n",
      "[120]\tvalidation_0-logloss:0.07794\tvalidation_1-logloss:0.11869\n",
      "[121]\tvalidation_0-logloss:0.07784\tvalidation_1-logloss:0.11869\n",
      "[122]\tvalidation_0-logloss:0.07758\tvalidation_1-logloss:0.11860\n",
      "[123]\tvalidation_0-logloss:0.07724\tvalidation_1-logloss:0.11869\n",
      "[124]\tvalidation_0-logloss:0.07688\tvalidation_1-logloss:0.11872\n",
      "[125]\tvalidation_0-logloss:0.07682\tvalidation_1-logloss:0.11867\n",
      "[126]\tvalidation_0-logloss:0.07639\tvalidation_1-logloss:0.11842\n",
      "[127]\tvalidation_0-logloss:0.07616\tvalidation_1-logloss:0.11843\n",
      "[128]\tvalidation_0-logloss:0.07596\tvalidation_1-logloss:0.11855\n",
      "[129]\tvalidation_0-logloss:0.07575\tvalidation_1-logloss:0.11861\n",
      "[130]\tvalidation_0-logloss:0.07549\tvalidation_1-logloss:0.11859\n",
      "[131]\tvalidation_0-logloss:0.07531\tvalidation_1-logloss:0.11857\n",
      "[132]\tvalidation_0-logloss:0.07487\tvalidation_1-logloss:0.11839\n",
      "[133]\tvalidation_0-logloss:0.07473\tvalidation_1-logloss:0.11851\n",
      "[134]\tvalidation_0-logloss:0.07445\tvalidation_1-logloss:0.11857\n",
      "[135]\tvalidation_0-logloss:0.07431\tvalidation_1-logloss:0.11857\n",
      "[136]\tvalidation_0-logloss:0.07424\tvalidation_1-logloss:0.11862\n",
      "[137]\tvalidation_0-logloss:0.07420\tvalidation_1-logloss:0.11864\n",
      "[138]\tvalidation_0-logloss:0.07377\tvalidation_1-logloss:0.11871\n",
      "[139]\tvalidation_0-logloss:0.07331\tvalidation_1-logloss:0.11871\n",
      "[140]\tvalidation_0-logloss:0.07324\tvalidation_1-logloss:0.11870\n",
      "[141]\tvalidation_0-logloss:0.07283\tvalidation_1-logloss:0.11865\n",
      "[142]\tvalidation_0-logloss:0.07273\tvalidation_1-logloss:0.11874\n",
      "[143]\tvalidation_0-logloss:0.07235\tvalidation_1-logloss:0.11878\n",
      "[144]\tvalidation_0-logloss:0.07192\tvalidation_1-logloss:0.11869\n",
      "[145]\tvalidation_0-logloss:0.07177\tvalidation_1-logloss:0.11877\n",
      "[146]\tvalidation_0-logloss:0.07134\tvalidation_1-logloss:0.11861\n",
      "[147]\tvalidation_0-logloss:0.07121\tvalidation_1-logloss:0.11867\n",
      "[148]\tvalidation_0-logloss:0.07110\tvalidation_1-logloss:0.11881\n",
      "[149]\tvalidation_0-logloss:0.07107\tvalidation_1-logloss:0.11882\n",
      "[150]\tvalidation_0-logloss:0.07062\tvalidation_1-logloss:0.11867\n",
      "[151]\tvalidation_0-logloss:0.07054\tvalidation_1-logloss:0.11863\n",
      "[152]\tvalidation_0-logloss:0.07041\tvalidation_1-logloss:0.11852\n",
      "[153]\tvalidation_0-logloss:0.07037\tvalidation_1-logloss:0.11852\n",
      "[154]\tvalidation_0-logloss:0.07031\tvalidation_1-logloss:0.11853\n",
      "[155]\tvalidation_0-logloss:0.06987\tvalidation_1-logloss:0.11854\n",
      "[156]\tvalidation_0-logloss:0.06975\tvalidation_1-logloss:0.11854\n",
      "[157]\tvalidation_0-logloss:0.06940\tvalidation_1-logloss:0.11843\n",
      "[158]\tvalidation_0-logloss:0.06913\tvalidation_1-logloss:0.11859\n",
      "[159]\tvalidation_0-logloss:0.06876\tvalidation_1-logloss:0.11848\n",
      "[160]\tvalidation_0-logloss:0.06859\tvalidation_1-logloss:0.11847\n",
      "[161]\tvalidation_0-logloss:0.06844\tvalidation_1-logloss:0.11855\n",
      "[162]\tvalidation_0-logloss:0.06824\tvalidation_1-logloss:0.11862\n",
      "[163]\tvalidation_0-logloss:0.06822\tvalidation_1-logloss:0.11863\n",
      "[164]\tvalidation_0-logloss:0.06801\tvalidation_1-logloss:0.11849\n",
      "[165]\tvalidation_0-logloss:0.06763\tvalidation_1-logloss:0.11849\n",
      "[166]\tvalidation_0-logloss:0.06730\tvalidation_1-logloss:0.11861\n",
      "[167]\tvalidation_0-logloss:0.06707\tvalidation_1-logloss:0.11878\n",
      "[168]\tvalidation_0-logloss:0.06669\tvalidation_1-logloss:0.11883\n",
      "[169]\tvalidation_0-logloss:0.06633\tvalidation_1-logloss:0.11883\n",
      "[170]\tvalidation_0-logloss:0.06600\tvalidation_1-logloss:0.11882\n",
      "[171]\tvalidation_0-logloss:0.06558\tvalidation_1-logloss:0.11878\n",
      "[172]\tvalidation_0-logloss:0.06534\tvalidation_1-logloss:0.11889\n",
      "[173]\tvalidation_0-logloss:0.06497\tvalidation_1-logloss:0.11901\n",
      "[174]\tvalidation_0-logloss:0.06474\tvalidation_1-logloss:0.11928\n",
      "[175]\tvalidation_0-logloss:0.06470\tvalidation_1-logloss:0.11924\n",
      "[176]\tvalidation_0-logloss:0.06454\tvalidation_1-logloss:0.11929\n",
      "[177]\tvalidation_0-logloss:0.06439\tvalidation_1-logloss:0.11936\n",
      "[178]\tvalidation_0-logloss:0.06422\tvalidation_1-logloss:0.11935\n",
      "[179]\tvalidation_0-logloss:0.06399\tvalidation_1-logloss:0.11930\n",
      "[180]\tvalidation_0-logloss:0.06388\tvalidation_1-logloss:0.11933\n",
      "[181]\tvalidation_0-logloss:0.06376\tvalidation_1-logloss:0.11946\n"
     ]
    },
    {
     "data": {
      "text/plain": [
       "XGBClassifier(base_score=0.5, booster='gbtree', callbacks=None,\n",
       "              colsample_bylevel=1, colsample_bynode=1, colsample_bytree=1,\n",
       "              early_stopping_rounds=50, enable_categorical=False,\n",
       "              eval_metric=None, gamma=0, gpu_id=-1, grow_policy='depthwise',\n",
       "              importance_type=None, interaction_constraints='',\n",
       "              learning_rate=0.300000012, max_bin=256, max_cat_to_onehot=4,\n",
       "              max_delta_step=0, max_depth=6, max_leaves=0, min_child_weight=1,\n",
       "              missing=nan, monotone_constraints='()', n_estimators=1000,\n",
       "              n_jobs=-1, num_parallel_tree=1, predictor='auto', random_state=42,\n",
       "              reg_alpha=0, reg_lambda=1, ...)"
      ]
     },
     "execution_count": 42,
     "metadata": {},
     "output_type": "execute_result"
    }
   ],
   "source": [
    "ml_model_sm = XGBClassifier(n_jobs=-1, n_estimators=1000,early_stopping_rounds=50, random_state=42)\n",
    "\n",
    "ml_model_sm.fit(X_train_sm, y_train_sm, eval_set=[(X_train_sm, y_train_sm),(X_val_sm, y_val_sm)])"
   ]
  },
  {
   "cell_type": "code",
   "execution_count": 43,
   "id": "8924f374",
   "metadata": {
    "execution": {
     "iopub.execute_input": "2023-02-08T01:39:55.569054Z",
     "iopub.status.busy": "2023-02-08T01:39:55.568276Z",
     "iopub.status.idle": "2023-02-08T01:39:55.575471Z",
     "shell.execute_reply": "2023-02-08T01:39:55.574302Z"
    },
    "papermill": {
     "duration": 0.050639,
     "end_time": "2023-02-08T01:39:55.577822",
     "exception": false,
     "start_time": "2023-02-08T01:39:55.527183",
     "status": "completed"
    },
    "tags": []
   },
   "outputs": [
    {
     "data": {
      "text/plain": [
       "133"
      ]
     },
     "execution_count": 43,
     "metadata": {},
     "output_type": "execute_result"
    }
   ],
   "source": [
    "ml_model_sm.best_ntree_limit"
   ]
  },
  {
   "cell_type": "code",
   "execution_count": 44,
   "id": "0e0b1ee8",
   "metadata": {
    "execution": {
     "iopub.execute_input": "2023-02-08T01:39:55.659774Z",
     "iopub.status.busy": "2023-02-08T01:39:55.659293Z",
     "iopub.status.idle": "2023-02-08T01:40:12.689610Z",
     "shell.execute_reply": "2023-02-08T01:40:12.688297Z"
    },
    "papermill": {
     "duration": 17.074133,
     "end_time": "2023-02-08T01:40:12.692140",
     "exception": false,
     "start_time": "2023-02-08T01:39:55.618007",
     "status": "completed"
    },
    "tags": []
   },
   "outputs": [
    {
     "data": {
      "text/plain": [
       "XGBClassifier(base_score=0.5, booster='gbtree', callbacks=None,\n",
       "              colsample_bylevel=1, colsample_bynode=1, colsample_bytree=1,\n",
       "              early_stopping_rounds=None, enable_categorical=False,\n",
       "              eval_metric=None, gamma=0, gpu_id=-1, grow_policy='depthwise',\n",
       "              importance_type=None, interaction_constraints='',\n",
       "              learning_rate=0.300000012, max_bin=256, max_cat_to_onehot=4,\n",
       "              max_delta_step=0, max_depth=6, max_leaves=0, min_child_weight=1,\n",
       "              missing=nan, monotone_constraints='()', n_estimators=183,\n",
       "              n_jobs=-1, num_parallel_tree=1, predictor='auto', random_state=42,\n",
       "              reg_alpha=0, reg_lambda=1, ...)"
      ]
     },
     "execution_count": 44,
     "metadata": {},
     "output_type": "execute_result"
    }
   ],
   "source": [
    "ml_model_sm = XGBClassifier(n_jobs=-1, n_estimators=183, random_state=42)\n",
    "ml_model_sm.fit(X_train_sm, y_train_sm)"
   ]
  },
  {
   "cell_type": "markdown",
   "id": "bfc0169a",
   "metadata": {
    "papermill": {
     "duration": 0.039842,
     "end_time": "2023-02-08T01:40:12.772473",
     "exception": false,
     "start_time": "2023-02-08T01:40:12.732631",
     "status": "completed"
    },
    "tags": []
   },
   "source": [
    "**Checking  the accuracy.**"
   ]
  },
  {
   "cell_type": "code",
   "execution_count": 45,
   "id": "418ba802",
   "metadata": {
    "execution": {
     "iopub.execute_input": "2023-02-08T01:40:12.855618Z",
     "iopub.status.busy": "2023-02-08T01:40:12.855171Z",
     "iopub.status.idle": "2023-02-08T01:40:13.054222Z",
     "shell.execute_reply": "2023-02-08T01:40:13.052796Z"
    },
    "papermill": {
     "duration": 0.244501,
     "end_time": "2023-02-08T01:40:13.057650",
     "exception": false,
     "start_time": "2023-02-08T01:40:12.813149",
     "status": "completed"
    },
    "tags": []
   },
   "outputs": [
    {
     "name": "stdout",
     "output_type": "stream",
     "text": [
      "Train Accuracy: 0.9805714285714285\n",
      "Validation Accuracy: 0.9481495397332331\n"
     ]
    }
   ],
   "source": [
    "print('Train Accuracy: {}'.format(accuracy_score(y_train_sm, ml_model_sm. predict(X_train_sm))))\n",
    "\n",
    "print('Validation Accuracy: {}'.format(accuracy_score(y_val_sm, ml_model_sm.predict(X_val_sm))))"
   ]
  },
  {
   "cell_type": "markdown",
   "id": "69139b62",
   "metadata": {
    "papermill": {
     "duration": 0.039772,
     "end_time": "2023-02-08T01:40:13.138973",
     "exception": false,
     "start_time": "2023-02-08T01:40:13.099201",
     "status": "completed"
    },
    "tags": []
   },
   "source": [
    "**Checking the Classication Report**"
   ]
  },
  {
   "cell_type": "code",
   "execution_count": 46,
   "id": "3836ab9b",
   "metadata": {
    "execution": {
     "iopub.execute_input": "2023-02-08T01:40:13.222729Z",
     "iopub.status.busy": "2023-02-08T01:40:13.222056Z",
     "iopub.status.idle": "2023-02-08T01:40:13.332652Z",
     "shell.execute_reply": "2023-02-08T01:40:13.331434Z"
    },
    "papermill": {
     "duration": 0.156805,
     "end_time": "2023-02-08T01:40:13.336421",
     "exception": false,
     "start_time": "2023-02-08T01:40:13.179616",
     "status": "completed"
    },
    "tags": []
   },
   "outputs": [
    {
     "name": "stdout",
     "output_type": "stream",
     "text": [
      "              precision    recall  f1-score   support\n",
      "\n",
      "           0       0.93      0.97      0.95      7952\n",
      "           1       0.66      0.49      0.57      1091\n",
      "\n",
      "    accuracy                           0.91      9043\n",
      "   macro avg       0.80      0.73      0.76      9043\n",
      "weighted avg       0.90      0.91      0.90      9043\n",
      "\n",
      "              precision    recall  f1-score   support\n",
      "\n",
      "           0       0.94      0.95      0.95      7985\n",
      "           1       0.95      0.94      0.95      7984\n",
      "\n",
      "    accuracy                           0.95     15969\n",
      "   macro avg       0.95      0.95      0.95     15969\n",
      "weighted avg       0.95      0.95      0.95     15969\n",
      "\n"
     ]
    }
   ],
   "source": [
    "print(classification_report(y_val, ml_model.predict(X_val)))\n",
    "print(classification_report(y_val_sm, ml_model_sm.predict(X_val_sm)))"
   ]
  },
  {
   "cell_type": "markdown",
   "id": "4d7c0dbe",
   "metadata": {
    "papermill": {
     "duration": 0.039384,
     "end_time": "2023-02-08T01:40:13.416678",
     "exception": false,
     "start_time": "2023-02-08T01:40:13.377294",
     "status": "completed"
    },
    "tags": []
   },
   "source": [
    "- The performance has imporoved a lot"
   ]
  },
  {
   "cell_type": "code",
   "execution_count": null,
   "id": "0c2609b9",
   "metadata": {
    "papermill": {
     "duration": 0.039814,
     "end_time": "2023-02-08T01:40:13.496843",
     "exception": false,
     "start_time": "2023-02-08T01:40:13.457029",
     "status": "completed"
    },
    "tags": []
   },
   "outputs": [],
   "source": []
  }
 ],
 "metadata": {
  "kernelspec": {
   "display_name": "Python 3",
   "language": "python",
   "name": "python3"
  },
  "language_info": {
   "codemirror_mode": {
    "name": "ipython",
    "version": 3
   },
   "file_extension": ".py",
   "mimetype": "text/x-python",
   "name": "python",
   "nbconvert_exporter": "python",
   "pygments_lexer": "ipython3",
   "version": "3.7.12"
  },
  "papermill": {
   "default_parameters": {},
   "duration": 64.118378,
   "end_time": "2023-02-08T01:40:14.460034",
   "environment_variables": {},
   "exception": null,
   "input_path": "__notebook__.ipynb",
   "output_path": "__notebook__.ipynb",
   "parameters": {},
   "start_time": "2023-02-08T01:39:10.341656",
   "version": "2.3.4"
  }
 },
 "nbformat": 4,
 "nbformat_minor": 5
}
